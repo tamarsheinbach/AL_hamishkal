{
 "cells": [
  {
   "cell_type": "markdown",
   "metadata": {},
   "source": [
    "## The project\n",
    "\n",
    "### \"Al Amishkal\"\n",
    "\n",
    "#### Submissions- Naama Busquila, Tamar Sheinbach, Nofar Horowitz"
   ]
  },
  {
   "cell_type": "code",
   "execution_count": 1,
   "metadata": {},
   "outputs": [],
   "source": [
    "import pandas as pd\n",
    "import numpy as np\n",
    "import matplotlib.pyplot as plt\n",
    "import seaborn as sns\n",
    "import sklearn as sk\n",
    "from sklearn.model_selection import train_test_split\n",
    "from sklearn.tree import DecisionTreeRegressor\n",
    "from sklearn.metrics import mean_squared_error as mse"
   ]
  },
  {
   "cell_type": "markdown",
   "metadata": {},
   "source": [
    "## The Dataset"
   ]
  },
  {
   "cell_type": "code",
   "execution_count": 2,
   "metadata": {},
   "outputs": [
    {
     "data": {
      "text/html": [
       "<div>\n",
       "<style scoped>\n",
       "    .dataframe tbody tr th:only-of-type {\n",
       "        vertical-align: middle;\n",
       "    }\n",
       "\n",
       "    .dataframe tbody tr th {\n",
       "        vertical-align: top;\n",
       "    }\n",
       "\n",
       "    .dataframe thead th {\n",
       "        text-align: right;\n",
       "    }\n",
       "</style>\n",
       "<table border=\"1\" class=\"dataframe\">\n",
       "  <thead>\n",
       "    <tr style=\"text-align: right;\">\n",
       "      <th></th>\n",
       "      <th>customer_code</th>\n",
       "      <th>Name</th>\n",
       "      <th>City</th>\n",
       "      <th>Num_of_notes</th>\n",
       "      <th>Num_of_purchases</th>\n",
       "      <th>Average_purchase</th>\n",
       "      <th>Last_purchase_date</th>\n",
       "      <th>Ground_spices</th>\n",
       "      <th>Whole_spices</th>\n",
       "      <th>Seasoning_mixtures</th>\n",
       "      <th>...</th>\n",
       "      <th>Popsicle</th>\n",
       "      <th>Snacks</th>\n",
       "      <th>Difference</th>\n",
       "      <th>Packaging_93</th>\n",
       "      <th>Club</th>\n",
       "      <th>Spread</th>\n",
       "      <th>General</th>\n",
       "      <th>Isa_Marketing</th>\n",
       "      <th>Frozen_fruit</th>\n",
       "      <th>Natural_toiletries</th>\n",
       "    </tr>\n",
       "  </thead>\n",
       "  <tbody>\n",
       "    <tr>\n",
       "      <th>0</th>\n",
       "      <td>1200842</td>\n",
       "      <td>NaN</td>\n",
       "      <td>NaN</td>\n",
       "      <td>1</td>\n",
       "      <td>22</td>\n",
       "      <td>22</td>\n",
       "      <td>29/06/2018 00:00</td>\n",
       "      <td>NaN</td>\n",
       "      <td>NaN</td>\n",
       "      <td>NaN</td>\n",
       "      <td>...</td>\n",
       "      <td>NaN</td>\n",
       "      <td>NaN</td>\n",
       "      <td>NaN</td>\n",
       "      <td>NaN</td>\n",
       "      <td>NaN</td>\n",
       "      <td>NaN</td>\n",
       "      <td>NaN</td>\n",
       "      <td>NaN</td>\n",
       "      <td>NaN</td>\n",
       "      <td>NaN</td>\n",
       "    </tr>\n",
       "    <tr>\n",
       "      <th>1</th>\n",
       "      <td>10000073</td>\n",
       "      <td>אסתי אברהם ביסמוט</td>\n",
       "      <td>ירושלים</td>\n",
       "      <td>1</td>\n",
       "      <td>68</td>\n",
       "      <td>68</td>\n",
       "      <td>17/04/2019 00:00</td>\n",
       "      <td>NaN</td>\n",
       "      <td>NaN</td>\n",
       "      <td>NaN</td>\n",
       "      <td>...</td>\n",
       "      <td>NaN</td>\n",
       "      <td>NaN</td>\n",
       "      <td>-9.0</td>\n",
       "      <td>NaN</td>\n",
       "      <td>17.0</td>\n",
       "      <td>NaN</td>\n",
       "      <td>NaN</td>\n",
       "      <td>NaN</td>\n",
       "      <td>NaN</td>\n",
       "      <td>NaN</td>\n",
       "    </tr>\n",
       "    <tr>\n",
       "      <th>2</th>\n",
       "      <td>110319</td>\n",
       "      <td>. .</td>\n",
       "      <td>NaN</td>\n",
       "      <td>0</td>\n",
       "      <td>0</td>\n",
       "      <td>0</td>\n",
       "      <td>NaN</td>\n",
       "      <td>NaN</td>\n",
       "      <td>NaN</td>\n",
       "      <td>NaN</td>\n",
       "      <td>...</td>\n",
       "      <td>NaN</td>\n",
       "      <td>NaN</td>\n",
       "      <td>NaN</td>\n",
       "      <td>NaN</td>\n",
       "      <td>NaN</td>\n",
       "      <td>NaN</td>\n",
       "      <td>NaN</td>\n",
       "      <td>NaN</td>\n",
       "      <td>NaN</td>\n",
       "      <td>NaN</td>\n",
       "    </tr>\n",
       "    <tr>\n",
       "      <th>3</th>\n",
       "      <td>10000000</td>\n",
       "      <td>AAAA</td>\n",
       "      <td>NaN</td>\n",
       "      <td>0</td>\n",
       "      <td>0</td>\n",
       "      <td>0</td>\n",
       "      <td>NaN</td>\n",
       "      <td>NaN</td>\n",
       "      <td>NaN</td>\n",
       "      <td>NaN</td>\n",
       "      <td>...</td>\n",
       "      <td>NaN</td>\n",
       "      <td>NaN</td>\n",
       "      <td>NaN</td>\n",
       "      <td>NaN</td>\n",
       "      <td>NaN</td>\n",
       "      <td>NaN</td>\n",
       "      <td>NaN</td>\n",
       "      <td>NaN</td>\n",
       "      <td>NaN</td>\n",
       "      <td>NaN</td>\n",
       "    </tr>\n",
       "    <tr>\n",
       "      <th>4</th>\n",
       "      <td>121873</td>\n",
       "      <td>DSIT פתרונות בע\"מ</td>\n",
       "      <td>NaN</td>\n",
       "      <td>1</td>\n",
       "      <td>7</td>\n",
       "      <td>7</td>\n",
       "      <td>04/12/2020</td>\n",
       "      <td>NaN</td>\n",
       "      <td>6.0</td>\n",
       "      <td>NaN</td>\n",
       "      <td>...</td>\n",
       "      <td>NaN</td>\n",
       "      <td>NaN</td>\n",
       "      <td>NaN</td>\n",
       "      <td>NaN</td>\n",
       "      <td>NaN</td>\n",
       "      <td>NaN</td>\n",
       "      <td>NaN</td>\n",
       "      <td>NaN</td>\n",
       "      <td>NaN</td>\n",
       "      <td>NaN</td>\n",
       "    </tr>\n",
       "  </tbody>\n",
       "</table>\n",
       "<p>5 rows × 46 columns</p>\n",
       "</div>"
      ],
      "text/plain": [
       "   customer_code               Name     City  Num_of_notes  Num_of_purchases  \\\n",
       "0        1200842                NaN      NaN             1                22   \n",
       "1       10000073  אסתי אברהם ביסמוט  ירושלים             1                68   \n",
       "2         110319                . .      NaN             0                 0   \n",
       "3       10000000               AAAA      NaN             0                 0   \n",
       "4         121873  DSIT פתרונות בע\"מ      NaN             1                 7   \n",
       "\n",
       "   Average_purchase Last_purchase_date  Ground_spices  Whole_spices  \\\n",
       "0                22   29/06/2018 00:00            NaN           NaN   \n",
       "1                68   17/04/2019 00:00            NaN           NaN   \n",
       "2                 0                NaN            NaN           NaN   \n",
       "3                 0                NaN            NaN           NaN   \n",
       "4                 7         04/12/2020            NaN           6.0   \n",
       "\n",
       "   Seasoning_mixtures  ...  Popsicle  Snacks  Difference  Packaging_93  Club  \\\n",
       "0                 NaN  ...       NaN     NaN         NaN           NaN   NaN   \n",
       "1                 NaN  ...       NaN     NaN        -9.0           NaN  17.0   \n",
       "2                 NaN  ...       NaN     NaN         NaN           NaN   NaN   \n",
       "3                 NaN  ...       NaN     NaN         NaN           NaN   NaN   \n",
       "4                 NaN  ...       NaN     NaN         NaN           NaN   NaN   \n",
       "\n",
       "   Spread  General  Isa_Marketing  Frozen_fruit  Natural_toiletries  \n",
       "0     NaN      NaN            NaN           NaN                 NaN  \n",
       "1     NaN      NaN            NaN           NaN                 NaN  \n",
       "2     NaN      NaN            NaN           NaN                 NaN  \n",
       "3     NaN      NaN            NaN           NaN                 NaN  \n",
       "4     NaN      NaN            NaN           NaN                 NaN  \n",
       "\n",
       "[5 rows x 46 columns]"
      ]
     },
     "execution_count": 2,
     "metadata": {},
     "output_type": "execute_result"
    }
   ],
   "source": [
    "mishkal_df = pd.read_csv('https://raw.githubusercontent.com/tamarsheinbach/AL_hamishkal/main/Al_hamishkal_OR.csv')\n",
    "mishkal_df.head()"
   ]
  },
  {
   "cell_type": "markdown",
   "metadata": {},
   "source": [
    "## Clearing and arranging the data"
   ]
  },
  {
   "cell_type": "markdown",
   "metadata": {},
   "source": [
    "The file has a column of all the names of the club members. For privacy reasons we removed that column"
   ]
  },
  {
   "cell_type": "code",
   "execution_count": 3,
   "metadata": {},
   "outputs": [
    {
     "data": {
      "text/html": [
       "<div>\n",
       "<style scoped>\n",
       "    .dataframe tbody tr th:only-of-type {\n",
       "        vertical-align: middle;\n",
       "    }\n",
       "\n",
       "    .dataframe tbody tr th {\n",
       "        vertical-align: top;\n",
       "    }\n",
       "\n",
       "    .dataframe thead th {\n",
       "        text-align: right;\n",
       "    }\n",
       "</style>\n",
       "<table border=\"1\" class=\"dataframe\">\n",
       "  <thead>\n",
       "    <tr style=\"text-align: right;\">\n",
       "      <th></th>\n",
       "      <th>customer_code</th>\n",
       "      <th>City</th>\n",
       "      <th>Num_of_notes</th>\n",
       "      <th>Num_of_purchases</th>\n",
       "      <th>Average_purchase</th>\n",
       "      <th>Last_purchase_date</th>\n",
       "      <th>Ground_spices</th>\n",
       "      <th>Whole_spices</th>\n",
       "      <th>Seasoning_mixtures</th>\n",
       "      <th>Legumes</th>\n",
       "      <th>...</th>\n",
       "      <th>Popsicle</th>\n",
       "      <th>Snacks</th>\n",
       "      <th>Difference</th>\n",
       "      <th>Packaging_93</th>\n",
       "      <th>Club</th>\n",
       "      <th>Spread</th>\n",
       "      <th>General</th>\n",
       "      <th>Isa_Marketing</th>\n",
       "      <th>Frozen_fruit</th>\n",
       "      <th>Natural_toiletries</th>\n",
       "    </tr>\n",
       "  </thead>\n",
       "  <tbody>\n",
       "    <tr>\n",
       "      <th>0</th>\n",
       "      <td>1200842</td>\n",
       "      <td>NaN</td>\n",
       "      <td>1</td>\n",
       "      <td>22</td>\n",
       "      <td>22</td>\n",
       "      <td>29/06/2018 00:00</td>\n",
       "      <td>NaN</td>\n",
       "      <td>NaN</td>\n",
       "      <td>NaN</td>\n",
       "      <td>NaN</td>\n",
       "      <td>...</td>\n",
       "      <td>NaN</td>\n",
       "      <td>NaN</td>\n",
       "      <td>NaN</td>\n",
       "      <td>NaN</td>\n",
       "      <td>NaN</td>\n",
       "      <td>NaN</td>\n",
       "      <td>NaN</td>\n",
       "      <td>NaN</td>\n",
       "      <td>NaN</td>\n",
       "      <td>NaN</td>\n",
       "    </tr>\n",
       "    <tr>\n",
       "      <th>1</th>\n",
       "      <td>10000073</td>\n",
       "      <td>ירושלים</td>\n",
       "      <td>1</td>\n",
       "      <td>68</td>\n",
       "      <td>68</td>\n",
       "      <td>17/04/2019 00:00</td>\n",
       "      <td>NaN</td>\n",
       "      <td>NaN</td>\n",
       "      <td>NaN</td>\n",
       "      <td>NaN</td>\n",
       "      <td>...</td>\n",
       "      <td>NaN</td>\n",
       "      <td>NaN</td>\n",
       "      <td>-9.0</td>\n",
       "      <td>NaN</td>\n",
       "      <td>17.0</td>\n",
       "      <td>NaN</td>\n",
       "      <td>NaN</td>\n",
       "      <td>NaN</td>\n",
       "      <td>NaN</td>\n",
       "      <td>NaN</td>\n",
       "    </tr>\n",
       "    <tr>\n",
       "      <th>2</th>\n",
       "      <td>110319</td>\n",
       "      <td>NaN</td>\n",
       "      <td>0</td>\n",
       "      <td>0</td>\n",
       "      <td>0</td>\n",
       "      <td>NaN</td>\n",
       "      <td>NaN</td>\n",
       "      <td>NaN</td>\n",
       "      <td>NaN</td>\n",
       "      <td>NaN</td>\n",
       "      <td>...</td>\n",
       "      <td>NaN</td>\n",
       "      <td>NaN</td>\n",
       "      <td>NaN</td>\n",
       "      <td>NaN</td>\n",
       "      <td>NaN</td>\n",
       "      <td>NaN</td>\n",
       "      <td>NaN</td>\n",
       "      <td>NaN</td>\n",
       "      <td>NaN</td>\n",
       "      <td>NaN</td>\n",
       "    </tr>\n",
       "    <tr>\n",
       "      <th>3</th>\n",
       "      <td>10000000</td>\n",
       "      <td>NaN</td>\n",
       "      <td>0</td>\n",
       "      <td>0</td>\n",
       "      <td>0</td>\n",
       "      <td>NaN</td>\n",
       "      <td>NaN</td>\n",
       "      <td>NaN</td>\n",
       "      <td>NaN</td>\n",
       "      <td>NaN</td>\n",
       "      <td>...</td>\n",
       "      <td>NaN</td>\n",
       "      <td>NaN</td>\n",
       "      <td>NaN</td>\n",
       "      <td>NaN</td>\n",
       "      <td>NaN</td>\n",
       "      <td>NaN</td>\n",
       "      <td>NaN</td>\n",
       "      <td>NaN</td>\n",
       "      <td>NaN</td>\n",
       "      <td>NaN</td>\n",
       "    </tr>\n",
       "    <tr>\n",
       "      <th>4</th>\n",
       "      <td>121873</td>\n",
       "      <td>NaN</td>\n",
       "      <td>1</td>\n",
       "      <td>7</td>\n",
       "      <td>7</td>\n",
       "      <td>04/12/2020</td>\n",
       "      <td>NaN</td>\n",
       "      <td>6.0</td>\n",
       "      <td>NaN</td>\n",
       "      <td>NaN</td>\n",
       "      <td>...</td>\n",
       "      <td>NaN</td>\n",
       "      <td>NaN</td>\n",
       "      <td>NaN</td>\n",
       "      <td>NaN</td>\n",
       "      <td>NaN</td>\n",
       "      <td>NaN</td>\n",
       "      <td>NaN</td>\n",
       "      <td>NaN</td>\n",
       "      <td>NaN</td>\n",
       "      <td>NaN</td>\n",
       "    </tr>\n",
       "  </tbody>\n",
       "</table>\n",
       "<p>5 rows × 45 columns</p>\n",
       "</div>"
      ],
      "text/plain": [
       "   customer_code     City  Num_of_notes  Num_of_purchases  Average_purchase  \\\n",
       "0        1200842      NaN             1                22                22   \n",
       "1       10000073  ירושלים             1                68                68   \n",
       "2         110319      NaN             0                 0                 0   \n",
       "3       10000000      NaN             0                 0                 0   \n",
       "4         121873      NaN             1                 7                 7   \n",
       "\n",
       "  Last_purchase_date  Ground_spices  Whole_spices  Seasoning_mixtures  \\\n",
       "0   29/06/2018 00:00            NaN           NaN                 NaN   \n",
       "1   17/04/2019 00:00            NaN           NaN                 NaN   \n",
       "2                NaN            NaN           NaN                 NaN   \n",
       "3                NaN            NaN           NaN                 NaN   \n",
       "4         04/12/2020            NaN           6.0                 NaN   \n",
       "\n",
       "   Legumes  ...  Popsicle  Snacks  Difference  Packaging_93  Club  Spread  \\\n",
       "0      NaN  ...       NaN     NaN         NaN           NaN   NaN     NaN   \n",
       "1      NaN  ...       NaN     NaN        -9.0           NaN  17.0     NaN   \n",
       "2      NaN  ...       NaN     NaN         NaN           NaN   NaN     NaN   \n",
       "3      NaN  ...       NaN     NaN         NaN           NaN   NaN     NaN   \n",
       "4      NaN  ...       NaN     NaN         NaN           NaN   NaN     NaN   \n",
       "\n",
       "   General  Isa_Marketing  Frozen_fruit  Natural_toiletries  \n",
       "0      NaN            NaN           NaN                 NaN  \n",
       "1      NaN            NaN           NaN                 NaN  \n",
       "2      NaN            NaN           NaN                 NaN  \n",
       "3      NaN            NaN           NaN                 NaN  \n",
       "4      NaN            NaN           NaN                 NaN  \n",
       "\n",
       "[5 rows x 45 columns]"
      ]
     },
     "execution_count": 3,
     "metadata": {},
     "output_type": "execute_result"
    }
   ],
   "source": [
    "mishkal_df.drop('Name',axis='columns',inplace=True)\n",
    "mishkal_df.head()"
   ]
  },
  {
   "cell_type": "markdown",
   "metadata": {},
   "source": [
    "Check if there are missing values :"
   ]
  },
  {
   "cell_type": "code",
   "execution_count": 4,
   "metadata": {},
   "outputs": [
    {
     "data": {
      "text/plain": [
       "Nuts_are_ready                7867\n",
       "Goat_milk                     7864\n",
       "Natural_toiletries            7807\n",
       "Isa_Marketing                 7699\n",
       "Packaging_93                  7601\n",
       "Caffe                         7510\n",
       "Spread                        7452\n",
       "Packaging                     7276\n",
       "Popsicle                      7171\n",
       "General                       7106\n",
       "Frozen_fruit                  6986\n",
       "Cakes_and_cookies             6966\n",
       "Gift_packaging                6902\n",
       "kitchenware                   6829\n",
       "Gluten_free                   6724\n",
       "Concentrators_and_essences    6652\n",
       "Honey                         6564\n",
       "Snacks                        6544\n",
       "Drinks                        6482\n",
       "Halva_and_special             5897\n",
       "Tea_infusion                  5834\n",
       "Seasoning_mixtures            5436\n",
       "Sauces_and_jams               5404\n",
       "Oil                           5347\n",
       "Vitamins_and_supplements      5191\n",
       "Whole_spices                  5151\n",
       "Flour                         4946\n",
       "Difference                    4922\n",
       "Legumes                       4911\n",
       "Candeis                       4863\n",
       "Baking_products               4759\n",
       "Dried_Fruit                   4607\n",
       "Ground_spices                 4548\n",
       "Products_without_VAT          4256\n",
       "Dried_fruits_sugar_free       4075\n",
       "Nuts                          3970\n",
       "Club                          3939\n",
       "Natural_products              3818\n",
       "Almonds_nuts_etc.             3583\n",
       "Last_purchase_date            3016\n",
       "City                           478\n",
       "Average_purchase                 0\n",
       "Num_of_purchases                 0\n",
       "Num_of_notes                     0\n",
       "customer_code                    0\n",
       "dtype: int64"
      ]
     },
     "execution_count": 4,
     "metadata": {},
     "output_type": "execute_result"
    }
   ],
   "source": [
    "mishkal_df.isnull().sum().sort_values(ascending=False)"
   ]
  },
  {
   "cell_type": "markdown",
   "metadata": {},
   "source": [
    "Remove the rows with the missing values in the columns of 'Last_purchase_date' and 'City'-"
   ]
  },
  {
   "cell_type": "code",
   "execution_count": 5,
   "metadata": {},
   "outputs": [],
   "source": [
    "mishkal_df.dropna(subset=['Last_purchase_date', 'City'], inplace = True)"
   ]
  },
  {
   "cell_type": "markdown",
   "metadata": {},
   "source": [
    "Fill all the missing values in 0, across all classes"
   ]
  },
  {
   "cell_type": "code",
   "execution_count": 6,
   "metadata": {},
   "outputs": [
    {
     "data": {
      "text/html": [
       "<div>\n",
       "<style scoped>\n",
       "    .dataframe tbody tr th:only-of-type {\n",
       "        vertical-align: middle;\n",
       "    }\n",
       "\n",
       "    .dataframe tbody tr th {\n",
       "        vertical-align: top;\n",
       "    }\n",
       "\n",
       "    .dataframe thead th {\n",
       "        text-align: right;\n",
       "    }\n",
       "</style>\n",
       "<table border=\"1\" class=\"dataframe\">\n",
       "  <thead>\n",
       "    <tr style=\"text-align: right;\">\n",
       "      <th></th>\n",
       "      <th>customer_code</th>\n",
       "      <th>City</th>\n",
       "      <th>Num_of_notes</th>\n",
       "      <th>Num_of_purchases</th>\n",
       "      <th>Average_purchase</th>\n",
       "      <th>Last_purchase_date</th>\n",
       "      <th>Ground_spices</th>\n",
       "      <th>Whole_spices</th>\n",
       "      <th>Seasoning_mixtures</th>\n",
       "      <th>Legumes</th>\n",
       "      <th>...</th>\n",
       "      <th>Popsicle</th>\n",
       "      <th>Snacks</th>\n",
       "      <th>Difference</th>\n",
       "      <th>Packaging_93</th>\n",
       "      <th>Club</th>\n",
       "      <th>Spread</th>\n",
       "      <th>General</th>\n",
       "      <th>Isa_Marketing</th>\n",
       "      <th>Frozen_fruit</th>\n",
       "      <th>Natural_toiletries</th>\n",
       "    </tr>\n",
       "  </thead>\n",
       "  <tbody>\n",
       "    <tr>\n",
       "      <th>1</th>\n",
       "      <td>10000073</td>\n",
       "      <td>ירושלים</td>\n",
       "      <td>1</td>\n",
       "      <td>68</td>\n",
       "      <td>68</td>\n",
       "      <td>17/04/2019 00:00</td>\n",
       "      <td>0</td>\n",
       "      <td>0</td>\n",
       "      <td>0</td>\n",
       "      <td>0</td>\n",
       "      <td>...</td>\n",
       "      <td>0</td>\n",
       "      <td>0</td>\n",
       "      <td>-9</td>\n",
       "      <td>0</td>\n",
       "      <td>17</td>\n",
       "      <td>0</td>\n",
       "      <td>0</td>\n",
       "      <td>0</td>\n",
       "      <td>0</td>\n",
       "      <td>0</td>\n",
       "    </tr>\n",
       "    <tr>\n",
       "      <th>6</th>\n",
       "      <td>10000125</td>\n",
       "      <td>גבע בנימין</td>\n",
       "      <td>53</td>\n",
       "      <td>4088</td>\n",
       "      <td>77</td>\n",
       "      <td>22/04/2021 00:00</td>\n",
       "      <td>673</td>\n",
       "      <td>222</td>\n",
       "      <td>124</td>\n",
       "      <td>148</td>\n",
       "      <td>...</td>\n",
       "      <td>0</td>\n",
       "      <td>0</td>\n",
       "      <td>3</td>\n",
       "      <td>0</td>\n",
       "      <td>50</td>\n",
       "      <td>0</td>\n",
       "      <td>0</td>\n",
       "      <td>0</td>\n",
       "      <td>21</td>\n",
       "      <td>0</td>\n",
       "    </tr>\n",
       "    <tr>\n",
       "      <th>7</th>\n",
       "      <td>120512</td>\n",
       "      <td>גבעת שמואל</td>\n",
       "      <td>16</td>\n",
       "      <td>1439</td>\n",
       "      <td>90</td>\n",
       "      <td>25/03/2021 00:00</td>\n",
       "      <td>27</td>\n",
       "      <td>33</td>\n",
       "      <td>8</td>\n",
       "      <td>5</td>\n",
       "      <td>...</td>\n",
       "      <td>0</td>\n",
       "      <td>0</td>\n",
       "      <td>0</td>\n",
       "      <td>0</td>\n",
       "      <td>0</td>\n",
       "      <td>0</td>\n",
       "      <td>0</td>\n",
       "      <td>0</td>\n",
       "      <td>0</td>\n",
       "      <td>0</td>\n",
       "    </tr>\n",
       "    <tr>\n",
       "      <th>8</th>\n",
       "      <td>112244</td>\n",
       "      <td>עלי</td>\n",
       "      <td>1</td>\n",
       "      <td>57</td>\n",
       "      <td>57</td>\n",
       "      <td>16/07/2019 00:00</td>\n",
       "      <td>0</td>\n",
       "      <td>0</td>\n",
       "      <td>0</td>\n",
       "      <td>0</td>\n",
       "      <td>...</td>\n",
       "      <td>0</td>\n",
       "      <td>0</td>\n",
       "      <td>0</td>\n",
       "      <td>0</td>\n",
       "      <td>0</td>\n",
       "      <td>0</td>\n",
       "      <td>0</td>\n",
       "      <td>0</td>\n",
       "      <td>0</td>\n",
       "      <td>0</td>\n",
       "    </tr>\n",
       "    <tr>\n",
       "      <th>9</th>\n",
       "      <td>120075</td>\n",
       "      <td>גבעת שמואל</td>\n",
       "      <td>9</td>\n",
       "      <td>1470</td>\n",
       "      <td>163</td>\n",
       "      <td>04/09/2021</td>\n",
       "      <td>0</td>\n",
       "      <td>4</td>\n",
       "      <td>80</td>\n",
       "      <td>6</td>\n",
       "      <td>...</td>\n",
       "      <td>0</td>\n",
       "      <td>0</td>\n",
       "      <td>0</td>\n",
       "      <td>0</td>\n",
       "      <td>0</td>\n",
       "      <td>0</td>\n",
       "      <td>0</td>\n",
       "      <td>0</td>\n",
       "      <td>0</td>\n",
       "      <td>0</td>\n",
       "    </tr>\n",
       "  </tbody>\n",
       "</table>\n",
       "<p>5 rows × 45 columns</p>\n",
       "</div>"
      ],
      "text/plain": [
       "   customer_code        City  Num_of_notes  Num_of_purchases  \\\n",
       "1       10000073     ירושלים             1                68   \n",
       "6       10000125  גבע בנימין            53              4088   \n",
       "7         120512  גבעת שמואל            16              1439   \n",
       "8         112244         עלי             1                57   \n",
       "9         120075  גבעת שמואל             9              1470   \n",
       "\n",
       "   Average_purchase Last_purchase_date Ground_spices Whole_spices  \\\n",
       "1                68   17/04/2019 00:00             0            0   \n",
       "6                77   22/04/2021 00:00           673          222   \n",
       "7                90   25/03/2021 00:00            27           33   \n",
       "8                57   16/07/2019 00:00             0            0   \n",
       "9               163         04/09/2021             0            4   \n",
       "\n",
       "  Seasoning_mixtures Legumes  ... Popsicle Snacks Difference Packaging_93  \\\n",
       "1                  0       0  ...        0      0         -9            0   \n",
       "6                124     148  ...        0      0          3            0   \n",
       "7                  8       5  ...        0      0          0            0   \n",
       "8                  0       0  ...        0      0          0            0   \n",
       "9                 80       6  ...        0      0          0            0   \n",
       "\n",
       "  Club Spread General Isa_Marketing Frozen_fruit Natural_toiletries  \n",
       "1   17      0       0             0            0                  0  \n",
       "6   50      0       0             0           21                  0  \n",
       "7    0      0       0             0            0                  0  \n",
       "8    0      0       0             0            0                  0  \n",
       "9    0      0       0             0            0                  0  \n",
       "\n",
       "[5 rows x 45 columns]"
      ]
     },
     "execution_count": 6,
     "metadata": {},
     "output_type": "execute_result"
    }
   ],
   "source": [
    "mishkal_df.fillna('0',inplace = True)\n",
    "mishkal_df.head()"
   ]
  },
  {
   "cell_type": "markdown",
   "metadata": {},
   "source": [
    "Extract only the date in the date column (remove time)"
   ]
  },
  {
   "cell_type": "code",
   "execution_count": 7,
   "metadata": {},
   "outputs": [
    {
     "data": {
      "text/html": [
       "<div>\n",
       "<style scoped>\n",
       "    .dataframe tbody tr th:only-of-type {\n",
       "        vertical-align: middle;\n",
       "    }\n",
       "\n",
       "    .dataframe tbody tr th {\n",
       "        vertical-align: top;\n",
       "    }\n",
       "\n",
       "    .dataframe thead th {\n",
       "        text-align: right;\n",
       "    }\n",
       "</style>\n",
       "<table border=\"1\" class=\"dataframe\">\n",
       "  <thead>\n",
       "    <tr style=\"text-align: right;\">\n",
       "      <th></th>\n",
       "      <th>customer_code</th>\n",
       "      <th>City</th>\n",
       "      <th>Num_of_notes</th>\n",
       "      <th>Num_of_purchases</th>\n",
       "      <th>Average_purchase</th>\n",
       "      <th>Last_purchase_date</th>\n",
       "      <th>Ground_spices</th>\n",
       "      <th>Whole_spices</th>\n",
       "      <th>Seasoning_mixtures</th>\n",
       "      <th>Legumes</th>\n",
       "      <th>...</th>\n",
       "      <th>Popsicle</th>\n",
       "      <th>Snacks</th>\n",
       "      <th>Difference</th>\n",
       "      <th>Packaging_93</th>\n",
       "      <th>Club</th>\n",
       "      <th>Spread</th>\n",
       "      <th>General</th>\n",
       "      <th>Isa_Marketing</th>\n",
       "      <th>Frozen_fruit</th>\n",
       "      <th>Natural_toiletries</th>\n",
       "    </tr>\n",
       "  </thead>\n",
       "  <tbody>\n",
       "    <tr>\n",
       "      <th>1</th>\n",
       "      <td>10000073</td>\n",
       "      <td>ירושלים</td>\n",
       "      <td>1</td>\n",
       "      <td>68</td>\n",
       "      <td>68</td>\n",
       "      <td>2019-04-17</td>\n",
       "      <td>0</td>\n",
       "      <td>0</td>\n",
       "      <td>0</td>\n",
       "      <td>0</td>\n",
       "      <td>...</td>\n",
       "      <td>0</td>\n",
       "      <td>0</td>\n",
       "      <td>-9</td>\n",
       "      <td>0</td>\n",
       "      <td>17</td>\n",
       "      <td>0</td>\n",
       "      <td>0</td>\n",
       "      <td>0</td>\n",
       "      <td>0</td>\n",
       "      <td>0</td>\n",
       "    </tr>\n",
       "    <tr>\n",
       "      <th>6</th>\n",
       "      <td>10000125</td>\n",
       "      <td>גבע בנימין</td>\n",
       "      <td>53</td>\n",
       "      <td>4088</td>\n",
       "      <td>77</td>\n",
       "      <td>2021-04-22</td>\n",
       "      <td>673</td>\n",
       "      <td>222</td>\n",
       "      <td>124</td>\n",
       "      <td>148</td>\n",
       "      <td>...</td>\n",
       "      <td>0</td>\n",
       "      <td>0</td>\n",
       "      <td>3</td>\n",
       "      <td>0</td>\n",
       "      <td>50</td>\n",
       "      <td>0</td>\n",
       "      <td>0</td>\n",
       "      <td>0</td>\n",
       "      <td>21</td>\n",
       "      <td>0</td>\n",
       "    </tr>\n",
       "    <tr>\n",
       "      <th>7</th>\n",
       "      <td>120512</td>\n",
       "      <td>גבעת שמואל</td>\n",
       "      <td>16</td>\n",
       "      <td>1439</td>\n",
       "      <td>90</td>\n",
       "      <td>2021-03-25</td>\n",
       "      <td>27</td>\n",
       "      <td>33</td>\n",
       "      <td>8</td>\n",
       "      <td>5</td>\n",
       "      <td>...</td>\n",
       "      <td>0</td>\n",
       "      <td>0</td>\n",
       "      <td>0</td>\n",
       "      <td>0</td>\n",
       "      <td>0</td>\n",
       "      <td>0</td>\n",
       "      <td>0</td>\n",
       "      <td>0</td>\n",
       "      <td>0</td>\n",
       "      <td>0</td>\n",
       "    </tr>\n",
       "    <tr>\n",
       "      <th>8</th>\n",
       "      <td>112244</td>\n",
       "      <td>עלי</td>\n",
       "      <td>1</td>\n",
       "      <td>57</td>\n",
       "      <td>57</td>\n",
       "      <td>2019-07-16</td>\n",
       "      <td>0</td>\n",
       "      <td>0</td>\n",
       "      <td>0</td>\n",
       "      <td>0</td>\n",
       "      <td>...</td>\n",
       "      <td>0</td>\n",
       "      <td>0</td>\n",
       "      <td>0</td>\n",
       "      <td>0</td>\n",
       "      <td>0</td>\n",
       "      <td>0</td>\n",
       "      <td>0</td>\n",
       "      <td>0</td>\n",
       "      <td>0</td>\n",
       "      <td>0</td>\n",
       "    </tr>\n",
       "    <tr>\n",
       "      <th>9</th>\n",
       "      <td>120075</td>\n",
       "      <td>גבעת שמואל</td>\n",
       "      <td>9</td>\n",
       "      <td>1470</td>\n",
       "      <td>163</td>\n",
       "      <td>2021-04-09</td>\n",
       "      <td>0</td>\n",
       "      <td>4</td>\n",
       "      <td>80</td>\n",
       "      <td>6</td>\n",
       "      <td>...</td>\n",
       "      <td>0</td>\n",
       "      <td>0</td>\n",
       "      <td>0</td>\n",
       "      <td>0</td>\n",
       "      <td>0</td>\n",
       "      <td>0</td>\n",
       "      <td>0</td>\n",
       "      <td>0</td>\n",
       "      <td>0</td>\n",
       "      <td>0</td>\n",
       "    </tr>\n",
       "  </tbody>\n",
       "</table>\n",
       "<p>5 rows × 45 columns</p>\n",
       "</div>"
      ],
      "text/plain": [
       "   customer_code        City  Num_of_notes  Num_of_purchases  \\\n",
       "1       10000073     ירושלים             1                68   \n",
       "6       10000125  גבע בנימין            53              4088   \n",
       "7         120512  גבעת שמואל            16              1439   \n",
       "8         112244         עלי             1                57   \n",
       "9         120075  גבעת שמואל             9              1470   \n",
       "\n",
       "   Average_purchase Last_purchase_date Ground_spices Whole_spices  \\\n",
       "1                68         2019-04-17             0            0   \n",
       "6                77         2021-04-22           673          222   \n",
       "7                90         2021-03-25            27           33   \n",
       "8                57         2019-07-16             0            0   \n",
       "9               163         2021-04-09             0            4   \n",
       "\n",
       "  Seasoning_mixtures Legumes  ... Popsicle Snacks Difference Packaging_93  \\\n",
       "1                  0       0  ...        0      0         -9            0   \n",
       "6                124     148  ...        0      0          3            0   \n",
       "7                  8       5  ...        0      0          0            0   \n",
       "8                  0       0  ...        0      0          0            0   \n",
       "9                 80       6  ...        0      0          0            0   \n",
       "\n",
       "  Club Spread General Isa_Marketing Frozen_fruit Natural_toiletries  \n",
       "1   17      0       0             0            0                  0  \n",
       "6   50      0       0             0           21                  0  \n",
       "7    0      0       0             0            0                  0  \n",
       "8    0      0       0             0            0                  0  \n",
       "9    0      0       0             0            0                  0  \n",
       "\n",
       "[5 rows x 45 columns]"
      ]
     },
     "execution_count": 7,
     "metadata": {},
     "output_type": "execute_result"
    }
   ],
   "source": [
    "mishkal_df['Last_purchase_date'] = pd.to_datetime(mishkal_df['Last_purchase_date'])\n",
    "mishkal_df.head()"
   ]
  },
  {
   "cell_type": "markdown",
   "metadata": {},
   "source": [
    "Define oldest last purchase date - 1.1.2019"
   ]
  },
  {
   "cell_type": "markdown",
   "metadata": {},
   "source": [
    "Reset index counts"
   ]
  },
  {
   "cell_type": "code",
   "execution_count": 8,
   "metadata": {},
   "outputs": [
    {
     "data": {
      "text/html": [
       "<div>\n",
       "<style scoped>\n",
       "    .dataframe tbody tr th:only-of-type {\n",
       "        vertical-align: middle;\n",
       "    }\n",
       "\n",
       "    .dataframe tbody tr th {\n",
       "        vertical-align: top;\n",
       "    }\n",
       "\n",
       "    .dataframe thead th {\n",
       "        text-align: right;\n",
       "    }\n",
       "</style>\n",
       "<table border=\"1\" class=\"dataframe\">\n",
       "  <thead>\n",
       "    <tr style=\"text-align: right;\">\n",
       "      <th></th>\n",
       "      <th>customer_code</th>\n",
       "      <th>City</th>\n",
       "      <th>Num_of_notes</th>\n",
       "      <th>Num_of_purchases</th>\n",
       "      <th>Average_purchase</th>\n",
       "      <th>Last_purchase_date</th>\n",
       "      <th>Ground_spices</th>\n",
       "      <th>Whole_spices</th>\n",
       "      <th>Seasoning_mixtures</th>\n",
       "      <th>Legumes</th>\n",
       "      <th>...</th>\n",
       "      <th>Popsicle</th>\n",
       "      <th>Snacks</th>\n",
       "      <th>Difference</th>\n",
       "      <th>Packaging_93</th>\n",
       "      <th>Club</th>\n",
       "      <th>Spread</th>\n",
       "      <th>General</th>\n",
       "      <th>Isa_Marketing</th>\n",
       "      <th>Frozen_fruit</th>\n",
       "      <th>Natural_toiletries</th>\n",
       "    </tr>\n",
       "  </thead>\n",
       "  <tbody>\n",
       "    <tr>\n",
       "      <th>0</th>\n",
       "      <td>10000073</td>\n",
       "      <td>ירושלים</td>\n",
       "      <td>1</td>\n",
       "      <td>68</td>\n",
       "      <td>68</td>\n",
       "      <td>2019-04-17</td>\n",
       "      <td>0</td>\n",
       "      <td>0</td>\n",
       "      <td>0</td>\n",
       "      <td>0</td>\n",
       "      <td>...</td>\n",
       "      <td>0</td>\n",
       "      <td>0</td>\n",
       "      <td>-9</td>\n",
       "      <td>0</td>\n",
       "      <td>17</td>\n",
       "      <td>0</td>\n",
       "      <td>0</td>\n",
       "      <td>0</td>\n",
       "      <td>0</td>\n",
       "      <td>0</td>\n",
       "    </tr>\n",
       "    <tr>\n",
       "      <th>1</th>\n",
       "      <td>10000125</td>\n",
       "      <td>גבע בנימין</td>\n",
       "      <td>53</td>\n",
       "      <td>4088</td>\n",
       "      <td>77</td>\n",
       "      <td>2021-04-22</td>\n",
       "      <td>673</td>\n",
       "      <td>222</td>\n",
       "      <td>124</td>\n",
       "      <td>148</td>\n",
       "      <td>...</td>\n",
       "      <td>0</td>\n",
       "      <td>0</td>\n",
       "      <td>3</td>\n",
       "      <td>0</td>\n",
       "      <td>50</td>\n",
       "      <td>0</td>\n",
       "      <td>0</td>\n",
       "      <td>0</td>\n",
       "      <td>21</td>\n",
       "      <td>0</td>\n",
       "    </tr>\n",
       "    <tr>\n",
       "      <th>2</th>\n",
       "      <td>120512</td>\n",
       "      <td>גבעת שמואל</td>\n",
       "      <td>16</td>\n",
       "      <td>1439</td>\n",
       "      <td>90</td>\n",
       "      <td>2021-03-25</td>\n",
       "      <td>27</td>\n",
       "      <td>33</td>\n",
       "      <td>8</td>\n",
       "      <td>5</td>\n",
       "      <td>...</td>\n",
       "      <td>0</td>\n",
       "      <td>0</td>\n",
       "      <td>0</td>\n",
       "      <td>0</td>\n",
       "      <td>0</td>\n",
       "      <td>0</td>\n",
       "      <td>0</td>\n",
       "      <td>0</td>\n",
       "      <td>0</td>\n",
       "      <td>0</td>\n",
       "    </tr>\n",
       "    <tr>\n",
       "      <th>3</th>\n",
       "      <td>112244</td>\n",
       "      <td>עלי</td>\n",
       "      <td>1</td>\n",
       "      <td>57</td>\n",
       "      <td>57</td>\n",
       "      <td>2019-07-16</td>\n",
       "      <td>0</td>\n",
       "      <td>0</td>\n",
       "      <td>0</td>\n",
       "      <td>0</td>\n",
       "      <td>...</td>\n",
       "      <td>0</td>\n",
       "      <td>0</td>\n",
       "      <td>0</td>\n",
       "      <td>0</td>\n",
       "      <td>0</td>\n",
       "      <td>0</td>\n",
       "      <td>0</td>\n",
       "      <td>0</td>\n",
       "      <td>0</td>\n",
       "      <td>0</td>\n",
       "    </tr>\n",
       "    <tr>\n",
       "      <th>4</th>\n",
       "      <td>120075</td>\n",
       "      <td>גבעת שמואל</td>\n",
       "      <td>9</td>\n",
       "      <td>1470</td>\n",
       "      <td>163</td>\n",
       "      <td>2021-04-09</td>\n",
       "      <td>0</td>\n",
       "      <td>4</td>\n",
       "      <td>80</td>\n",
       "      <td>6</td>\n",
       "      <td>...</td>\n",
       "      <td>0</td>\n",
       "      <td>0</td>\n",
       "      <td>0</td>\n",
       "      <td>0</td>\n",
       "      <td>0</td>\n",
       "      <td>0</td>\n",
       "      <td>0</td>\n",
       "      <td>0</td>\n",
       "      <td>0</td>\n",
       "      <td>0</td>\n",
       "    </tr>\n",
       "  </tbody>\n",
       "</table>\n",
       "<p>5 rows × 45 columns</p>\n",
       "</div>"
      ],
      "text/plain": [
       "   customer_code        City  Num_of_notes  Num_of_purchases  \\\n",
       "0       10000073     ירושלים             1                68   \n",
       "1       10000125  גבע בנימין            53              4088   \n",
       "2         120512  גבעת שמואל            16              1439   \n",
       "3         112244         עלי             1                57   \n",
       "4         120075  גבעת שמואל             9              1470   \n",
       "\n",
       "   Average_purchase Last_purchase_date Ground_spices Whole_spices  \\\n",
       "0                68         2019-04-17             0            0   \n",
       "1                77         2021-04-22           673          222   \n",
       "2                90         2021-03-25            27           33   \n",
       "3                57         2019-07-16             0            0   \n",
       "4               163         2021-04-09             0            4   \n",
       "\n",
       "  Seasoning_mixtures Legumes  ... Popsicle Snacks Difference Packaging_93  \\\n",
       "0                  0       0  ...        0      0         -9            0   \n",
       "1                124     148  ...        0      0          3            0   \n",
       "2                  8       5  ...        0      0          0            0   \n",
       "3                  0       0  ...        0      0          0            0   \n",
       "4                 80       6  ...        0      0          0            0   \n",
       "\n",
       "  Club Spread General Isa_Marketing Frozen_fruit Natural_toiletries  \n",
       "0   17      0       0             0            0                  0  \n",
       "1   50      0       0             0           21                  0  \n",
       "2    0      0       0             0            0                  0  \n",
       "3    0      0       0             0            0                  0  \n",
       "4    0      0       0             0            0                  0  \n",
       "\n",
       "[5 rows x 45 columns]"
      ]
     },
     "execution_count": 8,
     "metadata": {},
     "output_type": "execute_result"
    }
   ],
   "source": [
    "mishkal_df = mishkal_df[mishkal_df['Last_purchase_date']>'2019-01-01'].reset_index(drop=True)\n",
    "mishkal_df.head()"
   ]
  },
  {
   "cell_type": "code",
   "execution_count": 9,
   "metadata": {},
   "outputs": [
    {
     "data": {
      "text/html": [
       "<div>\n",
       "<style scoped>\n",
       "    .dataframe tbody tr th:only-of-type {\n",
       "        vertical-align: middle;\n",
       "    }\n",
       "\n",
       "    .dataframe tbody tr th {\n",
       "        vertical-align: top;\n",
       "    }\n",
       "\n",
       "    .dataframe thead th {\n",
       "        text-align: right;\n",
       "    }\n",
       "</style>\n",
       "<table border=\"1\" class=\"dataframe\">\n",
       "  <thead>\n",
       "    <tr style=\"text-align: right;\">\n",
       "      <th></th>\n",
       "      <th>customer_code</th>\n",
       "      <th>City</th>\n",
       "      <th>Num_of_notes</th>\n",
       "      <th>Num_of_purchases</th>\n",
       "      <th>Average_purchase</th>\n",
       "      <th>Last_purchase_date</th>\n",
       "      <th>Ground_spices</th>\n",
       "      <th>Whole_spices</th>\n",
       "      <th>Seasoning_mixtures</th>\n",
       "      <th>Legumes</th>\n",
       "      <th>...</th>\n",
       "      <th>Popsicle</th>\n",
       "      <th>Snacks</th>\n",
       "      <th>Difference</th>\n",
       "      <th>Packaging_93</th>\n",
       "      <th>Club</th>\n",
       "      <th>Spread</th>\n",
       "      <th>General</th>\n",
       "      <th>Isa_Marketing</th>\n",
       "      <th>Frozen_fruit</th>\n",
       "      <th>Natural_toiletries</th>\n",
       "    </tr>\n",
       "  </thead>\n",
       "  <tbody>\n",
       "    <tr>\n",
       "      <th>2164</th>\n",
       "      <td>121961</td>\n",
       "      <td>גבעת שמואל</td>\n",
       "      <td>1</td>\n",
       "      <td>0</td>\n",
       "      <td>0</td>\n",
       "      <td>2020-11-19</td>\n",
       "      <td>0</td>\n",
       "      <td>0</td>\n",
       "      <td>0</td>\n",
       "      <td>0</td>\n",
       "      <td>...</td>\n",
       "      <td>0</td>\n",
       "      <td>0</td>\n",
       "      <td>0</td>\n",
       "      <td>0</td>\n",
       "      <td>0</td>\n",
       "      <td>0</td>\n",
       "      <td>0</td>\n",
       "      <td>0</td>\n",
       "      <td>0</td>\n",
       "      <td>0</td>\n",
       "    </tr>\n",
       "  </tbody>\n",
       "</table>\n",
       "<p>1 rows × 45 columns</p>\n",
       "</div>"
      ],
      "text/plain": [
       "      customer_code        City  Num_of_notes  Num_of_purchases  \\\n",
       "2164         121961  גבעת שמואל             1                 0   \n",
       "\n",
       "      Average_purchase Last_purchase_date Ground_spices Whole_spices  \\\n",
       "2164                 0         2020-11-19             0            0   \n",
       "\n",
       "     Seasoning_mixtures Legumes  ... Popsicle Snacks Difference Packaging_93  \\\n",
       "2164                  0       0  ...        0      0          0            0   \n",
       "\n",
       "     Club Spread General Isa_Marketing Frozen_fruit Natural_toiletries  \n",
       "2164    0      0       0             0            0                  0  \n",
       "\n",
       "[1 rows x 45 columns]"
      ]
     },
     "execution_count": 9,
     "metadata": {},
     "output_type": "execute_result"
    }
   ],
   "source": [
    "mishkal_df.loc[(mishkal_df.Num_of_purchases == 0)]"
   ]
  },
  {
   "cell_type": "code",
   "execution_count": 10,
   "metadata": {},
   "outputs": [
    {
     "data": {
      "text/html": [
       "<div>\n",
       "<style scoped>\n",
       "    .dataframe tbody tr th:only-of-type {\n",
       "        vertical-align: middle;\n",
       "    }\n",
       "\n",
       "    .dataframe tbody tr th {\n",
       "        vertical-align: top;\n",
       "    }\n",
       "\n",
       "    .dataframe thead th {\n",
       "        text-align: right;\n",
       "    }\n",
       "</style>\n",
       "<table border=\"1\" class=\"dataframe\">\n",
       "  <thead>\n",
       "    <tr style=\"text-align: right;\">\n",
       "      <th></th>\n",
       "      <th>customer_code</th>\n",
       "      <th>City</th>\n",
       "      <th>Num_of_notes</th>\n",
       "      <th>Num_of_purchases</th>\n",
       "      <th>Average_purchase</th>\n",
       "      <th>Last_purchase_date</th>\n",
       "      <th>Ground_spices</th>\n",
       "      <th>Whole_spices</th>\n",
       "      <th>Seasoning_mixtures</th>\n",
       "      <th>Legumes</th>\n",
       "      <th>...</th>\n",
       "      <th>Popsicle</th>\n",
       "      <th>Snacks</th>\n",
       "      <th>Difference</th>\n",
       "      <th>Packaging_93</th>\n",
       "      <th>Club</th>\n",
       "      <th>Spread</th>\n",
       "      <th>General</th>\n",
       "      <th>Isa_Marketing</th>\n",
       "      <th>Frozen_fruit</th>\n",
       "      <th>Natural_toiletries</th>\n",
       "    </tr>\n",
       "  </thead>\n",
       "  <tbody>\n",
       "  </tbody>\n",
       "</table>\n",
       "<p>0 rows × 45 columns</p>\n",
       "</div>"
      ],
      "text/plain": [
       "Empty DataFrame\n",
       "Columns: [customer_code, City, Num_of_notes, Num_of_purchases, Average_purchase, Last_purchase_date, Ground_spices, Whole_spices, Seasoning_mixtures, Legumes, Sauces_and_jams, Oil, Flour, Baking_products, Cakes_and_cookies, Almonds_nuts_etc., Concentrators_and_essences, Nuts, Nuts_are_ready, Dried_Fruit, Dried_fruits_sugar_free, Natural_products, Gluten_free, Goat_milk, Vitamins_and_supplements, Honey, Products_without_VAT, Gift_packaging, Packaging, kitchenware, Drinks, Halva_and_special, Candeis, Tea_infusion, Caffe, Popsicle, Snacks, Difference, Packaging_93, Club, Spread, General, Isa_Marketing, Frozen_fruit, Natural_toiletries]\n",
       "Index: []\n",
       "\n",
       "[0 rows x 45 columns]"
      ]
     },
     "execution_count": 10,
     "metadata": {},
     "output_type": "execute_result"
    }
   ],
   "source": [
    "mishkal_df.drop(labels = 2164, inplace = True)\n",
    "mishkal_df.loc[(mishkal_df.Num_of_purchases == 0)]"
   ]
  },
  {
   "cell_type": "markdown",
   "metadata": {},
   "source": [
    "### Data types\n",
    "Check if any of the data types need to be fixed:"
   ]
  },
  {
   "cell_type": "code",
   "execution_count": 11,
   "metadata": {},
   "outputs": [
    {
     "data": {
      "text/plain": [
       "customer_code                          int64\n",
       "City                                  object\n",
       "Num_of_notes                           int64\n",
       "Num_of_purchases                       int64\n",
       "Average_purchase                       int64\n",
       "Last_purchase_date            datetime64[ns]\n",
       "Ground_spices                         object\n",
       "Whole_spices                          object\n",
       "Seasoning_mixtures                    object\n",
       "Legumes                               object\n",
       "Sauces_and_jams                       object\n",
       "Oil                                   object\n",
       "Flour                                 object\n",
       "Baking_products                       object\n",
       "Cakes_and_cookies                     object\n",
       "Almonds_nuts_etc.                     object\n",
       "Concentrators_and_essences            object\n",
       "Nuts                                  object\n",
       "Nuts_are_ready                        object\n",
       "Dried_Fruit                           object\n",
       "Dried_fruits_sugar_free               object\n",
       "Natural_products                      object\n",
       "Gluten_free                           object\n",
       "Goat_milk                             object\n",
       "Vitamins_and_supplements              object\n",
       "Honey                                 object\n",
       "Products_without_VAT                  object\n",
       "Gift_packaging                        object\n",
       "Packaging                             object\n",
       "kitchenware                           object\n",
       "Drinks                                object\n",
       "Halva_and_special                     object\n",
       "Candeis                               object\n",
       "Tea_infusion                          object\n",
       "Caffe                                 object\n",
       "Popsicle                              object\n",
       "Snacks                                object\n",
       "Difference                            object\n",
       "Packaging_93                          object\n",
       "Club                                  object\n",
       "Spread                                object\n",
       "General                               object\n",
       "Isa_Marketing                         object\n",
       "Frozen_fruit                          object\n",
       "Natural_toiletries                    object\n",
       "dtype: object"
      ]
     },
     "execution_count": 11,
     "metadata": {},
     "output_type": "execute_result"
    }
   ],
   "source": [
    "mishkal_df.dtypes"
   ]
  },
  {
   "cell_type": "markdown",
   "metadata": {},
   "source": [
    "Convert the columns of the products"
   ]
  },
  {
   "cell_type": "code",
   "execution_count": 12,
   "metadata": {},
   "outputs": [],
   "source": [
    "mishkal_df.iloc[:,6:] = mishkal_df.iloc[:,6:].astype(\"int\")"
   ]
  },
  {
   "cell_type": "markdown",
   "metadata": {},
   "source": [
    "### Consolidate columns by groups\n",
    "\n",
    "Spices :"
   ]
  },
  {
   "cell_type": "code",
   "execution_count": 13,
   "metadata": {},
   "outputs": [],
   "source": [
    "mishkal_df['Spices'] = mishkal_df['Ground_spices'] + mishkal_df['Whole_spices'] + mishkal_df['Seasoning_mixtures']"
   ]
  },
  {
   "cell_type": "markdown",
   "metadata": {},
   "source": [
    "Sauces and spreads :"
   ]
  },
  {
   "cell_type": "code",
   "execution_count": 14,
   "metadata": {},
   "outputs": [],
   "source": [
    "mishkal_df['Sauces_and_spreads'] = mishkal_df['Sauces_and_jams'] + mishkal_df['Concentrators_and_essences'] + mishkal_df['Honey'] + mishkal_df['Spread']"
   ]
  },
  {
   "cell_type": "markdown",
   "metadata": {},
   "source": [
    "Nuts :"
   ]
  },
  {
   "cell_type": "code",
   "execution_count": 15,
   "metadata": {},
   "outputs": [],
   "source": [
    "mishkal_df['Nuts'] = mishkal_df['Nuts'] + mishkal_df['Nuts_are_ready'] "
   ]
  },
  {
   "cell_type": "markdown",
   "metadata": {},
   "source": [
    "Sweets :"
   ]
  },
  {
   "cell_type": "code",
   "execution_count": 16,
   "metadata": {},
   "outputs": [],
   "source": [
    "mishkal_df['Sweets'] = mishkal_df['Popsicle'] + mishkal_df['Snacks'] + mishkal_df['Halva_and_special'] + mishkal_df['Candeis'] + mishkal_df['Drinks'] + mishkal_df['Cakes_and_cookies']"
   ]
  },
  {
   "cell_type": "markdown",
   "metadata": {},
   "source": [
    "Natural products :"
   ]
  },
  {
   "cell_type": "code",
   "execution_count": 17,
   "metadata": {},
   "outputs": [],
   "source": [
    "mishkal_df['Natural_products'] = mishkal_df['Natural_products'] + mishkal_df['Natural_toiletries']"
   ]
  },
  {
   "cell_type": "markdown",
   "metadata": {},
   "source": [
    "Difference :"
   ]
  },
  {
   "cell_type": "code",
   "execution_count": 18,
   "metadata": {},
   "outputs": [],
   "source": [
    "mishkal_df['Difference'] = mishkal_df['Difference'] + mishkal_df['kitchenware'] + mishkal_df['Isa_Marketing'] + mishkal_df['Products_without_VAT'] + mishkal_df['Gift_packaging'] + mishkal_df['Packaging_93'] + mishkal_df['Packaging'] + mishkal_df['General'] + mishkal_df['Goat_milk']"
   ]
  },
  {
   "cell_type": "markdown",
   "metadata": {},
   "source": [
    "Remove duplicate columns"
   ]
  },
  {
   "cell_type": "code",
   "execution_count": 19,
   "metadata": {},
   "outputs": [],
   "source": [
    "mishkal_df.drop(columns= ['Goat_milk','Packaging_93','General','Packaging','Gift_packaging','Products_without_VAT','Isa_Marketing','kitchenware','Natural_toiletries','Cakes_and_cookies','Drinks','Candeis','Halva_and_special','Snacks','Popsicle','Nuts_are_ready','Spread','Honey','Concentrators_and_essences','Sauces_and_jams','Seasoning_mixtures','Whole_spices','Ground_spices'], inplace = True)"
   ]
  },
  {
   "cell_type": "markdown",
   "metadata": {},
   "source": [
    "#### Checking the data after we removed and arranged"
   ]
  },
  {
   "cell_type": "code",
   "execution_count": 20,
   "metadata": {},
   "outputs": [
    {
     "data": {
      "text/html": [
       "<div>\n",
       "<style scoped>\n",
       "    .dataframe tbody tr th:only-of-type {\n",
       "        vertical-align: middle;\n",
       "    }\n",
       "\n",
       "    .dataframe tbody tr th {\n",
       "        vertical-align: top;\n",
       "    }\n",
       "\n",
       "    .dataframe thead th {\n",
       "        text-align: right;\n",
       "    }\n",
       "</style>\n",
       "<table border=\"1\" class=\"dataframe\">\n",
       "  <thead>\n",
       "    <tr style=\"text-align: right;\">\n",
       "      <th></th>\n",
       "      <th>customer_code</th>\n",
       "      <th>City</th>\n",
       "      <th>Num_of_notes</th>\n",
       "      <th>Num_of_purchases</th>\n",
       "      <th>Average_purchase</th>\n",
       "      <th>Last_purchase_date</th>\n",
       "      <th>Legumes</th>\n",
       "      <th>Oil</th>\n",
       "      <th>Flour</th>\n",
       "      <th>Baking_products</th>\n",
       "      <th>...</th>\n",
       "      <th>Gluten_free</th>\n",
       "      <th>Vitamins_and_supplements</th>\n",
       "      <th>Tea_infusion</th>\n",
       "      <th>Caffe</th>\n",
       "      <th>Difference</th>\n",
       "      <th>Club</th>\n",
       "      <th>Frozen_fruit</th>\n",
       "      <th>Spices</th>\n",
       "      <th>Sauces_and_spreads</th>\n",
       "      <th>Sweets</th>\n",
       "    </tr>\n",
       "  </thead>\n",
       "  <tbody>\n",
       "    <tr>\n",
       "      <th>0</th>\n",
       "      <td>10000073</td>\n",
       "      <td>ירושלים</td>\n",
       "      <td>1</td>\n",
       "      <td>68</td>\n",
       "      <td>68</td>\n",
       "      <td>2019-04-17</td>\n",
       "      <td>0</td>\n",
       "      <td>0</td>\n",
       "      <td>0</td>\n",
       "      <td>0</td>\n",
       "      <td>...</td>\n",
       "      <td>0</td>\n",
       "      <td>0</td>\n",
       "      <td>0</td>\n",
       "      <td>0</td>\n",
       "      <td>-9</td>\n",
       "      <td>17</td>\n",
       "      <td>0</td>\n",
       "      <td>0</td>\n",
       "      <td>0</td>\n",
       "      <td>0</td>\n",
       "    </tr>\n",
       "    <tr>\n",
       "      <th>1</th>\n",
       "      <td>10000125</td>\n",
       "      <td>גבע בנימין</td>\n",
       "      <td>53</td>\n",
       "      <td>4088</td>\n",
       "      <td>77</td>\n",
       "      <td>2021-04-22</td>\n",
       "      <td>148</td>\n",
       "      <td>287</td>\n",
       "      <td>133</td>\n",
       "      <td>164</td>\n",
       "      <td>...</td>\n",
       "      <td>0</td>\n",
       "      <td>106</td>\n",
       "      <td>0</td>\n",
       "      <td>0</td>\n",
       "      <td>198</td>\n",
       "      <td>50</td>\n",
       "      <td>21</td>\n",
       "      <td>1019</td>\n",
       "      <td>59</td>\n",
       "      <td>70</td>\n",
       "    </tr>\n",
       "    <tr>\n",
       "      <th>2</th>\n",
       "      <td>120512</td>\n",
       "      <td>גבעת שמואל</td>\n",
       "      <td>16</td>\n",
       "      <td>1439</td>\n",
       "      <td>90</td>\n",
       "      <td>2021-03-25</td>\n",
       "      <td>5</td>\n",
       "      <td>0</td>\n",
       "      <td>0</td>\n",
       "      <td>0</td>\n",
       "      <td>...</td>\n",
       "      <td>0</td>\n",
       "      <td>323</td>\n",
       "      <td>13</td>\n",
       "      <td>0</td>\n",
       "      <td>17</td>\n",
       "      <td>0</td>\n",
       "      <td>0</td>\n",
       "      <td>68</td>\n",
       "      <td>0</td>\n",
       "      <td>20</td>\n",
       "    </tr>\n",
       "    <tr>\n",
       "      <th>3</th>\n",
       "      <td>112244</td>\n",
       "      <td>עלי</td>\n",
       "      <td>1</td>\n",
       "      <td>57</td>\n",
       "      <td>57</td>\n",
       "      <td>2019-07-16</td>\n",
       "      <td>0</td>\n",
       "      <td>0</td>\n",
       "      <td>0</td>\n",
       "      <td>0</td>\n",
       "      <td>...</td>\n",
       "      <td>0</td>\n",
       "      <td>0</td>\n",
       "      <td>0</td>\n",
       "      <td>0</td>\n",
       "      <td>35</td>\n",
       "      <td>0</td>\n",
       "      <td>0</td>\n",
       "      <td>0</td>\n",
       "      <td>0</td>\n",
       "      <td>0</td>\n",
       "    </tr>\n",
       "    <tr>\n",
       "      <th>4</th>\n",
       "      <td>120075</td>\n",
       "      <td>גבעת שמואל</td>\n",
       "      <td>9</td>\n",
       "      <td>1470</td>\n",
       "      <td>163</td>\n",
       "      <td>2021-04-09</td>\n",
       "      <td>6</td>\n",
       "      <td>0</td>\n",
       "      <td>0</td>\n",
       "      <td>0</td>\n",
       "      <td>...</td>\n",
       "      <td>0</td>\n",
       "      <td>162</td>\n",
       "      <td>0</td>\n",
       "      <td>0</td>\n",
       "      <td>51</td>\n",
       "      <td>0</td>\n",
       "      <td>0</td>\n",
       "      <td>84</td>\n",
       "      <td>0</td>\n",
       "      <td>70</td>\n",
       "    </tr>\n",
       "  </tbody>\n",
       "</table>\n",
       "<p>5 rows × 25 columns</p>\n",
       "</div>"
      ],
      "text/plain": [
       "   customer_code        City  Num_of_notes  Num_of_purchases  \\\n",
       "0       10000073     ירושלים             1                68   \n",
       "1       10000125  גבע בנימין            53              4088   \n",
       "2         120512  גבעת שמואל            16              1439   \n",
       "3         112244         עלי             1                57   \n",
       "4         120075  גבעת שמואל             9              1470   \n",
       "\n",
       "   Average_purchase Last_purchase_date  Legumes  Oil  Flour  Baking_products  \\\n",
       "0                68         2019-04-17        0    0      0                0   \n",
       "1                77         2021-04-22      148  287    133              164   \n",
       "2                90         2021-03-25        5    0      0                0   \n",
       "3                57         2019-07-16        0    0      0                0   \n",
       "4               163         2021-04-09        6    0      0                0   \n",
       "\n",
       "   ...  Gluten_free  Vitamins_and_supplements  Tea_infusion  Caffe  \\\n",
       "0  ...            0                         0             0      0   \n",
       "1  ...            0                       106             0      0   \n",
       "2  ...            0                       323            13      0   \n",
       "3  ...            0                         0             0      0   \n",
       "4  ...            0                       162             0      0   \n",
       "\n",
       "   Difference  Club  Frozen_fruit  Spices  Sauces_and_spreads  Sweets  \n",
       "0          -9    17             0       0                   0       0  \n",
       "1         198    50            21    1019                  59      70  \n",
       "2          17     0             0      68                   0      20  \n",
       "3          35     0             0       0                   0       0  \n",
       "4          51     0             0      84                   0      70  \n",
       "\n",
       "[5 rows x 25 columns]"
      ]
     },
     "execution_count": 20,
     "metadata": {},
     "output_type": "execute_result"
    }
   ],
   "source": [
    "mishkal_df.head()"
   ]
  },
  {
   "cell_type": "code",
   "execution_count": 21,
   "metadata": {},
   "outputs": [
    {
     "data": {
      "text/plain": [
       "Index(['customer_code', 'City', 'Num_of_notes', 'Num_of_purchases',\n",
       "       'Average_purchase', 'Last_purchase_date', 'Legumes', 'Oil', 'Flour',\n",
       "       'Baking_products', 'Almonds_nuts_etc.', 'Nuts', 'Dried_Fruit',\n",
       "       'Dried_fruits_sugar_free', 'Natural_products', 'Gluten_free',\n",
       "       'Vitamins_and_supplements', 'Tea_infusion', 'Caffe', 'Difference',\n",
       "       'Club', 'Frozen_fruit', 'Spices', 'Sauces_and_spreads', 'Sweets'],\n",
       "      dtype='object')"
      ]
     },
     "execution_count": 21,
     "metadata": {},
     "output_type": "execute_result"
    }
   ],
   "source": [
    "mishkal_df.columns"
   ]
  },
  {
   "cell_type": "code",
   "execution_count": 22,
   "metadata": {},
   "outputs": [
    {
     "name": "stdout",
     "output_type": "stream",
     "text": [
      "<class 'pandas.core.frame.DataFrame'>\n",
      "Int64Index: 4385 entries, 0 to 4385\n",
      "Data columns (total 25 columns):\n",
      " #   Column                    Non-Null Count  Dtype         \n",
      "---  ------                    --------------  -----         \n",
      " 0   customer_code             4385 non-null   int64         \n",
      " 1   City                      4385 non-null   object        \n",
      " 2   Num_of_notes              4385 non-null   int64         \n",
      " 3   Num_of_purchases          4385 non-null   int64         \n",
      " 4   Average_purchase          4385 non-null   int64         \n",
      " 5   Last_purchase_date        4385 non-null   datetime64[ns]\n",
      " 6   Legumes                   4385 non-null   int32         \n",
      " 7   Oil                       4385 non-null   int32         \n",
      " 8   Flour                     4385 non-null   int32         \n",
      " 9   Baking_products           4385 non-null   int32         \n",
      " 10  Almonds_nuts_etc.         4385 non-null   int32         \n",
      " 11  Nuts                      4385 non-null   int32         \n",
      " 12  Dried_Fruit               4385 non-null   int32         \n",
      " 13  Dried_fruits_sugar_free   4385 non-null   int32         \n",
      " 14  Natural_products          4385 non-null   int32         \n",
      " 15  Gluten_free               4385 non-null   int32         \n",
      " 16  Vitamins_and_supplements  4385 non-null   int32         \n",
      " 17  Tea_infusion              4385 non-null   int32         \n",
      " 18  Caffe                     4385 non-null   int32         \n",
      " 19  Difference                4385 non-null   int32         \n",
      " 20  Club                      4385 non-null   int32         \n",
      " 21  Frozen_fruit              4385 non-null   int32         \n",
      " 22  Spices                    4385 non-null   int32         \n",
      " 23  Sauces_and_spreads        4385 non-null   int32         \n",
      " 24  Sweets                    4385 non-null   int32         \n",
      "dtypes: datetime64[ns](1), int32(19), int64(4), object(1)\n",
      "memory usage: 548.1+ KB\n"
     ]
    }
   ],
   "source": [
    "mishkal_df.info()"
   ]
  },
  {
   "cell_type": "markdown",
   "metadata": {},
   "source": [
    "## 2. Understanding the data"
   ]
  },
  {
   "cell_type": "markdown",
   "metadata": {},
   "source": [
    "<!-- A list is made of all the cities. We will take the 11 cities with the most customers and present them in Pai Plot -->\n",
    "Define parameter to show all the customeres by city"
   ]
  },
  {
   "cell_type": "code",
   "execution_count": 23,
   "metadata": {},
   "outputs": [
    {
     "data": {
      "text/plain": [
       "גבעת שמואל      795\n",
       "קרני שומרון     425\n",
       "בית אל          354\n",
       "קדומים          288\n",
       "עפרה            236\n",
       "כוכב השחר       202\n",
       "כוכב יעקב       194\n",
       "גבע בנימין      193\n",
       "פסגות           164\n",
       "מעלה מכמש       150\n",
       "עלי             111\n",
       "שילה             84\n",
       "תל ציון          79\n",
       "עופרה            67\n",
       "שבי שומרון       57\n",
       "מעלה שומרון      57\n",
       "עמנואל           55\n",
       "יקיר             43\n",
       "גינות שומרון     42\n",
       "ירושלים          42\n",
       "Name: City, dtype: int64"
      ]
     },
     "execution_count": 23,
     "metadata": {},
     "output_type": "execute_result"
    }
   ],
   "source": [
    "list_city = mishkal_df['City'].value_counts()\n",
    "list_city[0:20]"
   ]
  },
  {
   "cell_type": "markdown",
   "metadata": {},
   "source": [
    "Show all the cities that have more then 100 customeres"
   ]
  },
  {
   "cell_type": "code",
   "execution_count": 24,
   "metadata": {},
   "outputs": [
    {
     "data": {
      "image/png": "[encoded data removed]",
      "text/plain": [
       "<Figure size 1080x360 with 1 Axes>"
      ]
     },
     "metadata": {
      "needs_background": "light"
     },
     "output_type": "display_data"
    }
   ],
   "source": [
    "list_city = list_city.iloc[:11]\n",
    "list_city.plot.bar(fontsize = 12, rot = 45, ylim = 100, figsize = (15,5))\n",
    "plt.legend().remove()"
   ]
  },
  {
   "cell_type": "markdown",
   "metadata": {},
   "source": [
    "### Correlation 1 - comparse between two cities that have similar properties"
   ]
  },
  {
   "cell_type": "markdown",
   "metadata": {},
   "source": [
    "<!-- We will create a piece from the original file where the customers from these 2 localities will be. -->"
   ]
  },
  {
   "cell_type": "code",
   "execution_count": 25,
   "metadata": {},
   "outputs": [],
   "source": [
    "two_city = mishkal_df.loc[(mishkal_df.City == 'קרני שומרון') | (mishkal_df.City == 'בית אל')]"
   ]
  },
  {
   "cell_type": "markdown",
   "metadata": {},
   "source": [
    "Check number of customers from Beit El and Karnei Shomron :"
   ]
  },
  {
   "cell_type": "code",
   "execution_count": 26,
   "metadata": {},
   "outputs": [
    {
     "data": {
      "text/plain": [
       "City\n",
       "בית אל         354\n",
       "קרני שומרון    425\n",
       "Name: City, dtype: int64"
      ]
     },
     "execution_count": 26,
     "metadata": {},
     "output_type": "execute_result"
    }
   ],
   "source": [
    "two_city.groupby('City')['City'].count()"
   ]
  },
  {
   "cell_type": "markdown",
   "metadata": {},
   "source": [
    "We will create a pivot table with the 3 concluding columns"
   ]
  },
  {
   "cell_type": "code",
   "execution_count": 27,
   "metadata": {},
   "outputs": [
    {
     "data": {
      "text/html": [
       "<div>\n",
       "<style scoped>\n",
       "    .dataframe tbody tr th:only-of-type {\n",
       "        vertical-align: middle;\n",
       "    }\n",
       "\n",
       "    .dataframe tbody tr th {\n",
       "        vertical-align: top;\n",
       "    }\n",
       "\n",
       "    .dataframe thead th {\n",
       "        text-align: right;\n",
       "    }\n",
       "</style>\n",
       "<table border=\"1\" class=\"dataframe\">\n",
       "  <thead>\n",
       "    <tr style=\"text-align: right;\">\n",
       "      <th></th>\n",
       "      <th>Average_purchase</th>\n",
       "      <th>Num_of_notes</th>\n",
       "      <th>Num_of_purchases</th>\n",
       "    </tr>\n",
       "    <tr>\n",
       "      <th>City</th>\n",
       "      <th></th>\n",
       "      <th></th>\n",
       "      <th></th>\n",
       "    </tr>\n",
       "  </thead>\n",
       "  <tbody>\n",
       "    <tr>\n",
       "      <th>בית אל</th>\n",
       "      <td>110.83</td>\n",
       "      <td>50.81</td>\n",
       "      <td>5740.90</td>\n",
       "    </tr>\n",
       "    <tr>\n",
       "      <th>קרני שומרון</th>\n",
       "      <td>78.24</td>\n",
       "      <td>89.42</td>\n",
       "      <td>7285.02</td>\n",
       "    </tr>\n",
       "  </tbody>\n",
       "</table>\n",
       "</div>"
      ],
      "text/plain": [
       "             Average_purchase  Num_of_notes  Num_of_purchases\n",
       "City                                                         \n",
       "בית אל                 110.83         50.81           5740.90\n",
       "קרני שומרון             78.24         89.42           7285.02"
      ]
     },
     "execution_count": 27,
     "metadata": {},
     "output_type": "execute_result"
    }
   ],
   "source": [
    "two_city.pivot_table(['Num_of_notes','Num_of_purchases','Average_purchase'],'City').round(2)"
   ]
  },
  {
   "cell_type": "markdown",
   "metadata": {},
   "source": [
    "We will see the distribution of the data by histogram"
   ]
  },
  {
   "cell_type": "code",
   "execution_count": 28,
   "metadata": {},
   "outputs": [
    {
     "data": {
      "text/plain": [
       "<matplotlib.legend.Legend at 0xc13af70>"
      ]
     },
     "execution_count": 28,
     "metadata": {},
     "output_type": "execute_result"
    },
    {
     "data": {
      "image/png": "[encoded data removed]",
      "text/plain": [
       "<Figure size 432x288 with 1 Axes>"
      ]
     },
     "metadata": {
      "needs_background": "light"
     },
     "output_type": "display_data"
    }
   ],
   "source": [
    "karnsh = two_city.loc[two_city.City == 'קרני שומרון']\n",
    "bet_ell = two_city.loc[two_city.City == 'בית אל']\n",
    "plt.title('Num of notes')\n",
    "plt.hist(karnsh['Num_of_notes'], alpha=0.4, label='karneish')\n",
    "plt.hist(bet_ell['Num_of_notes'], alpha=0.4, label='bet_ell')\n",
    "plt.legend(loc='upper right')"
   ]
  },
  {
   "cell_type": "code",
   "execution_count": 29,
   "metadata": {},
   "outputs": [
    {
     "data": {
      "text/plain": [
       "<matplotlib.legend.Legend at 0x10184718>"
      ]
     },
     "execution_count": 29,
     "metadata": {},
     "output_type": "execute_result"
    },
    {
     "data": {
      "image/png": "[encoded data removed]",
      "text/plain": [
       "<Figure size 432x288 with 1 Axes>"
      ]
     },
     "metadata": {
      "needs_background": "light"
     },
     "output_type": "display_data"
    }
   ],
   "source": [
    "plt.title('Average purchase')\n",
    "plt.hist(karnsh['Average_purchase'], alpha=0.4, label='karneish')\n",
    "plt.hist(bet_ell['Average_purchase'], alpha=0.4, label='bet_ell')\n",
    "plt.legend(loc='upper right')"
   ]
  },
  {
   "cell_type": "code",
   "execution_count": 30,
   "metadata": {},
   "outputs": [
    {
     "data": {
      "text/plain": [
       "<matplotlib.legend.Legend at 0xa760f28>"
      ]
     },
     "execution_count": 30,
     "metadata": {},
     "output_type": "execute_result"
    },
    {
     "data": {
      "image/png": "[encoded data removed]",
      "text/plain": [
       "<Figure size 432x288 with 1 Axes>"
      ]
     },
     "metadata": {
      "needs_background": "light"
     },
     "output_type": "display_data"
    }
   ],
   "source": [
    "plt.title('Num of purchases')\n",
    "plt.hist(karnsh['Num_of_purchases'], alpha=0.4, label='karneish')\n",
    "plt.hist(bet_ell['Num_of_purchases'], alpha=0.4, label='bet_ell')\n",
    "plt.legend(loc='upper right')"
   ]
  },
  {
   "cell_type": "markdown",
   "metadata": {},
   "source": [
    "From this graph it is difficult to understand the scatter of the data, so we also did Boxplot"
   ]
  },
  {
   "cell_type": "code",
   "execution_count": 31,
   "metadata": {},
   "outputs": [
    {
     "data": {
      "text/plain": [
       "[(0.0, 35000.0)]"
      ]
     },
     "execution_count": 31,
     "metadata": {},
     "output_type": "execute_result"
    },
    {
     "data": {
      "image/png": "[encoded data removed]",
      "text/plain": [
       "<Figure size 504x504 with 1 Axes>"
      ]
     },
     "metadata": {
      "needs_background": "light"
     },
     "output_type": "display_data"
    }
   ],
   "source": [
    "plt.figure(figsize=(7,7))\n",
    "plt.title('Num of purchases')\n",
    "ax = sns.boxplot(x='City', y='Num_of_purchases', data=two_city, hue = 'City')\n",
    "ax.set(ylim = (0,35000))"
   ]
  },
  {
   "cell_type": "markdown",
   "metadata": {},
   "source": [
    "We will examine correlations in the 2 localities between these 3 columns-"
   ]
  },
  {
   "cell_type": "code",
   "execution_count": 32,
   "metadata": {},
   "outputs": [
    {
     "data": {
      "text/html": [
       "<div>\n",
       "<style scoped>\n",
       "    .dataframe tbody tr th:only-of-type {\n",
       "        vertical-align: middle;\n",
       "    }\n",
       "\n",
       "    .dataframe tbody tr th {\n",
       "        vertical-align: top;\n",
       "    }\n",
       "\n",
       "    .dataframe thead th {\n",
       "        text-align: right;\n",
       "    }\n",
       "</style>\n",
       "<table border=\"1\" class=\"dataframe\">\n",
       "  <thead>\n",
       "    <tr style=\"text-align: right;\">\n",
       "      <th></th>\n",
       "      <th>Num_of_notes</th>\n",
       "      <th>Num_of_purchases</th>\n",
       "      <th>Average_purchase</th>\n",
       "    </tr>\n",
       "  </thead>\n",
       "  <tbody>\n",
       "    <tr>\n",
       "      <th>Num_of_notes</th>\n",
       "      <td>1.000</td>\n",
       "      <td>0.825</td>\n",
       "      <td>-0.036</td>\n",
       "    </tr>\n",
       "    <tr>\n",
       "      <th>Num_of_purchases</th>\n",
       "      <td>0.825</td>\n",
       "      <td>1.000</td>\n",
       "      <td>0.375</td>\n",
       "    </tr>\n",
       "    <tr>\n",
       "      <th>Average_purchase</th>\n",
       "      <td>-0.036</td>\n",
       "      <td>0.375</td>\n",
       "      <td>1.000</td>\n",
       "    </tr>\n",
       "  </tbody>\n",
       "</table>\n",
       "</div>"
      ],
      "text/plain": [
       "                  Num_of_notes  Num_of_purchases  Average_purchase\n",
       "Num_of_notes             1.000             0.825            -0.036\n",
       "Num_of_purchases         0.825             1.000             0.375\n",
       "Average_purchase        -0.036             0.375             1.000"
      ]
     },
     "execution_count": 32,
     "metadata": {},
     "output_type": "execute_result"
    }
   ],
   "source": [
    "corr1 = two_city[['Num_of_notes','Num_of_purchases','Average_purchase']]\n",
    "corr1.corr().round(3)"
   ]
  },
  {
   "cell_type": "code",
   "execution_count": 33,
   "metadata": {},
   "outputs": [
    {
     "data": {
      "text/plain": [
       "<matplotlib.axes._subplots.AxesSubplot at 0xc872640>"
      ]
     },
     "execution_count": 33,
     "metadata": {},
     "output_type": "execute_result"
    },
    {
     "data": {
      "image/png": "[encoded data removed]",
      "text/plain": [
       "<Figure size 432x288 with 2 Axes>"
      ]
     },
     "metadata": {
      "needs_background": "light"
     },
     "output_type": "display_data"
    }
   ],
   "source": [
    "plt.title(\"purchases\")\n",
    "sns.heatmap(corr1.corr(),cmap='Blues', annot=True)"
   ]
  },
  {
   "cell_type": "markdown",
   "metadata": {},
   "source": [
    "### Correlation 2 - comparse between products groups\n",
    "<!-- Display in Pie Plot the average of the product columns- -->"
   ]
  },
  {
   "cell_type": "code",
   "execution_count": 34,
   "metadata": {},
   "outputs": [
    {
     "data": {
      "image/png": "[encoded data removed]",
      "text/plain": [
       "<Figure size 1080x360 with 1 Axes>"
      ]
     },
     "metadata": {
      "needs_background": "light"
     },
     "output_type": "display_data"
    }
   ],
   "source": [
    "Departments1 = mishkal_df[['Legumes','Oil','Flour','Baking_products', 'Almonds_nuts_etc.','Nuts','Dried_fruits_sugar_free','Natural_products','Gluten_free','Vitamins_and_supplements','Tea_infusion','Frozen_fruit','Spices','Caffe','Sauces_and_spreads','Sweets','Difference']].mean()\n",
    "Departments1 = pd.DataFrame([Departments1])\n",
    "ax1 = pd.melt(Departments1).plot.bar(x = 'variable', fontsize = 12, rot = 90, figsize = (15,5), color = ['Brown'])\n",
    "plt.legend().remove()"
   ]
  },
  {
   "cell_type": "markdown",
   "metadata": {},
   "source": [
    "Define 3 new groups - 'basic_products' , 'not_healthy' , 'healthy'\n",
    "<!-- Introducing different types of products into 3 new columns- 'basic_products' , 'not_healthy' , 'healthy' -->"
   ]
  },
  {
   "cell_type": "code",
   "execution_count": 35,
   "metadata": {},
   "outputs": [],
   "source": [
    "healthy = mishkal_df.loc[:,['Almonds_nuts_etc.','Dried_fruits_sugar_free','Natural_products']]\n",
    "not_healthy = mishkal_df.loc[:,['Nuts','Sweets','Dried_Fruit','Baking_products']]\n",
    "basic_products = mishkal_df.loc[:,['Legumes', 'Oil', 'Flour','Spices']]"
   ]
  },
  {
   "cell_type": "markdown",
   "metadata": {},
   "source": [
    "Insert the new columns into the file"
   ]
  },
  {
   "cell_type": "code",
   "execution_count": 36,
   "metadata": {},
   "outputs": [],
   "source": [
    "mishkal_df['healthy'] = healthy.mean(axis=1)\n",
    "mishkal_df['not_healthy'] = not_healthy.mean(axis=1)\n",
    "mishkal_df['basic_products'] = basic_products.mean(axis=1)"
   ]
  },
  {
   "cell_type": "markdown",
   "metadata": {},
   "source": [
    "Checking the correlation between the new groups and another the group 'Vitamins_and_supplements'"
   ]
  },
  {
   "cell_type": "code",
   "execution_count": 37,
   "metadata": {},
   "outputs": [
    {
     "data": {
      "text/html": [
       "<div>\n",
       "<style scoped>\n",
       "    .dataframe tbody tr th:only-of-type {\n",
       "        vertical-align: middle;\n",
       "    }\n",
       "\n",
       "    .dataframe tbody tr th {\n",
       "        vertical-align: top;\n",
       "    }\n",
       "\n",
       "    .dataframe thead th {\n",
       "        text-align: right;\n",
       "    }\n",
       "</style>\n",
       "<table border=\"1\" class=\"dataframe\">\n",
       "  <thead>\n",
       "    <tr style=\"text-align: right;\">\n",
       "      <th></th>\n",
       "      <th>basic_products</th>\n",
       "      <th>not_healthy</th>\n",
       "      <th>healthy</th>\n",
       "      <th>Vitamins_and_supplements</th>\n",
       "    </tr>\n",
       "  </thead>\n",
       "  <tbody>\n",
       "    <tr>\n",
       "      <th>basic_products</th>\n",
       "      <td>1.00</td>\n",
       "      <td>0.44</td>\n",
       "      <td>0.62</td>\n",
       "      <td>0.29</td>\n",
       "    </tr>\n",
       "    <tr>\n",
       "      <th>not_healthy</th>\n",
       "      <td>0.44</td>\n",
       "      <td>1.00</td>\n",
       "      <td>0.64</td>\n",
       "      <td>0.32</td>\n",
       "    </tr>\n",
       "    <tr>\n",
       "      <th>healthy</th>\n",
       "      <td>0.62</td>\n",
       "      <td>0.64</td>\n",
       "      <td>1.00</td>\n",
       "      <td>0.38</td>\n",
       "    </tr>\n",
       "    <tr>\n",
       "      <th>Vitamins_and_supplements</th>\n",
       "      <td>0.29</td>\n",
       "      <td>0.32</td>\n",
       "      <td>0.38</td>\n",
       "      <td>1.00</td>\n",
       "    </tr>\n",
       "  </tbody>\n",
       "</table>\n",
       "</div>"
      ],
      "text/plain": [
       "                          basic_products  not_healthy  healthy  \\\n",
       "basic_products                      1.00         0.44     0.62   \n",
       "not_healthy                         0.44         1.00     0.64   \n",
       "healthy                             0.62         0.64     1.00   \n",
       "Vitamins_and_supplements            0.29         0.32     0.38   \n",
       "\n",
       "                          Vitamins_and_supplements  \n",
       "basic_products                                0.29  \n",
       "not_healthy                                   0.32  \n",
       "healthy                                       0.38  \n",
       "Vitamins_and_supplements                      1.00  "
      ]
     },
     "execution_count": 37,
     "metadata": {},
     "output_type": "execute_result"
    }
   ],
   "source": [
    "corr2 = mishkal_df[['basic_products','not_healthy','healthy','Vitamins_and_supplements']]\n",
    "corr2.corr().round(2)"
   ]
  },
  {
   "cell_type": "markdown",
   "metadata": {},
   "source": [
    "Showing the correlation in heatmap"
   ]
  },
  {
   "cell_type": "code",
   "execution_count": 38,
   "metadata": {},
   "outputs": [
    {
     "data": {
      "text/plain": [
       "<matplotlib.axes._subplots.AxesSubplot at 0xd3314a8>"
      ]
     },
     "execution_count": 38,
     "metadata": {},
     "output_type": "execute_result"
    },
    {
     "data": {
      "image/png": "[encoded data removed]",
      "text/plain": [
       "<Figure size 432x288 with 2 Axes>"
      ]
     },
     "metadata": {
      "needs_background": "light"
     },
     "output_type": "display_data"
    }
   ],
   "source": [
    "sns.heatmap(corr2.corr(),cmap='Greens', annot=True)"
   ]
  },
  {
   "cell_type": "markdown",
   "metadata": {},
   "source": [
    "### Vitamins and supplements buying in Giva'at Shmuel"
   ]
  },
  {
   "cell_type": "markdown",
   "metadata": {},
   "source": [
    "Givat Shmuel is the city with the most customers. We will now focus on her :"
   ]
  },
  {
   "cell_type": "code",
   "execution_count": 39,
   "metadata": {},
   "outputs": [
    {
     "data": {
      "text/html": [
       "<div>\n",
       "<style scoped>\n",
       "    .dataframe tbody tr th:only-of-type {\n",
       "        vertical-align: middle;\n",
       "    }\n",
       "\n",
       "    .dataframe tbody tr th {\n",
       "        vertical-align: top;\n",
       "    }\n",
       "\n",
       "    .dataframe thead th {\n",
       "        text-align: right;\n",
       "    }\n",
       "</style>\n",
       "<table border=\"1\" class=\"dataframe\">\n",
       "  <thead>\n",
       "    <tr style=\"text-align: right;\">\n",
       "      <th></th>\n",
       "      <th>customer_code</th>\n",
       "      <th>City</th>\n",
       "      <th>Num_of_notes</th>\n",
       "      <th>Num_of_purchases</th>\n",
       "      <th>Average_purchase</th>\n",
       "      <th>Last_purchase_date</th>\n",
       "      <th>Legumes</th>\n",
       "      <th>Oil</th>\n",
       "      <th>Flour</th>\n",
       "      <th>Baking_products</th>\n",
       "      <th>...</th>\n",
       "      <th>Caffe</th>\n",
       "      <th>Difference</th>\n",
       "      <th>Club</th>\n",
       "      <th>Frozen_fruit</th>\n",
       "      <th>Spices</th>\n",
       "      <th>Sauces_and_spreads</th>\n",
       "      <th>Sweets</th>\n",
       "      <th>healthy</th>\n",
       "      <th>not_healthy</th>\n",
       "      <th>basic_products</th>\n",
       "    </tr>\n",
       "  </thead>\n",
       "  <tbody>\n",
       "    <tr>\n",
       "      <th>2</th>\n",
       "      <td>120512</td>\n",
       "      <td>גבעת שמואל</td>\n",
       "      <td>16</td>\n",
       "      <td>1439</td>\n",
       "      <td>90</td>\n",
       "      <td>2021-03-25</td>\n",
       "      <td>5</td>\n",
       "      <td>0</td>\n",
       "      <td>0</td>\n",
       "      <td>0</td>\n",
       "      <td>...</td>\n",
       "      <td>0</td>\n",
       "      <td>17</td>\n",
       "      <td>0</td>\n",
       "      <td>0</td>\n",
       "      <td>68</td>\n",
       "      <td>0</td>\n",
       "      <td>20</td>\n",
       "      <td>252.000000</td>\n",
       "      <td>12.25</td>\n",
       "      <td>18.25</td>\n",
       "    </tr>\n",
       "    <tr>\n",
       "      <th>4</th>\n",
       "      <td>120075</td>\n",
       "      <td>גבעת שמואל</td>\n",
       "      <td>9</td>\n",
       "      <td>1470</td>\n",
       "      <td>163</td>\n",
       "      <td>2021-04-09</td>\n",
       "      <td>6</td>\n",
       "      <td>0</td>\n",
       "      <td>0</td>\n",
       "      <td>0</td>\n",
       "      <td>...</td>\n",
       "      <td>0</td>\n",
       "      <td>51</td>\n",
       "      <td>0</td>\n",
       "      <td>0</td>\n",
       "      <td>84</td>\n",
       "      <td>0</td>\n",
       "      <td>70</td>\n",
       "      <td>242.666667</td>\n",
       "      <td>57.75</td>\n",
       "      <td>22.50</td>\n",
       "    </tr>\n",
       "    <tr>\n",
       "      <th>7</th>\n",
       "      <td>10000557</td>\n",
       "      <td>גבעת שמואל</td>\n",
       "      <td>1</td>\n",
       "      <td>50</td>\n",
       "      <td>50</td>\n",
       "      <td>2020-01-24</td>\n",
       "      <td>0</td>\n",
       "      <td>0</td>\n",
       "      <td>0</td>\n",
       "      <td>0</td>\n",
       "      <td>...</td>\n",
       "      <td>0</td>\n",
       "      <td>0</td>\n",
       "      <td>0</td>\n",
       "      <td>0</td>\n",
       "      <td>0</td>\n",
       "      <td>0</td>\n",
       "      <td>0</td>\n",
       "      <td>0.000000</td>\n",
       "      <td>10.50</td>\n",
       "      <td>0.00</td>\n",
       "    </tr>\n",
       "    <tr>\n",
       "      <th>28</th>\n",
       "      <td>121422</td>\n",
       "      <td>גבעת שמואל</td>\n",
       "      <td>1</td>\n",
       "      <td>22</td>\n",
       "      <td>22</td>\n",
       "      <td>2019-02-15</td>\n",
       "      <td>0</td>\n",
       "      <td>0</td>\n",
       "      <td>0</td>\n",
       "      <td>5</td>\n",
       "      <td>...</td>\n",
       "      <td>0</td>\n",
       "      <td>0</td>\n",
       "      <td>0</td>\n",
       "      <td>0</td>\n",
       "      <td>0</td>\n",
       "      <td>0</td>\n",
       "      <td>14</td>\n",
       "      <td>0.000000</td>\n",
       "      <td>4.75</td>\n",
       "      <td>0.00</td>\n",
       "    </tr>\n",
       "    <tr>\n",
       "      <th>29</th>\n",
       "      <td>120668</td>\n",
       "      <td>גבעת שמואל</td>\n",
       "      <td>3</td>\n",
       "      <td>284</td>\n",
       "      <td>95</td>\n",
       "      <td>2021-03-26</td>\n",
       "      <td>0</td>\n",
       "      <td>0</td>\n",
       "      <td>0</td>\n",
       "      <td>0</td>\n",
       "      <td>...</td>\n",
       "      <td>0</td>\n",
       "      <td>71</td>\n",
       "      <td>17</td>\n",
       "      <td>0</td>\n",
       "      <td>0</td>\n",
       "      <td>32</td>\n",
       "      <td>0</td>\n",
       "      <td>32.666667</td>\n",
       "      <td>6.00</td>\n",
       "      <td>0.00</td>\n",
       "    </tr>\n",
       "  </tbody>\n",
       "</table>\n",
       "<p>5 rows × 28 columns</p>\n",
       "</div>"
      ],
      "text/plain": [
       "    customer_code        City  Num_of_notes  Num_of_purchases  \\\n",
       "2          120512  גבעת שמואל            16              1439   \n",
       "4          120075  גבעת שמואל             9              1470   \n",
       "7        10000557  גבעת שמואל             1                50   \n",
       "28         121422  גבעת שמואל             1                22   \n",
       "29         120668  גבעת שמואל             3               284   \n",
       "\n",
       "    Average_purchase Last_purchase_date  Legumes  Oil  Flour  Baking_products  \\\n",
       "2                 90         2021-03-25        5    0      0                0   \n",
       "4                163         2021-04-09        6    0      0                0   \n",
       "7                 50         2020-01-24        0    0      0                0   \n",
       "28                22         2019-02-15        0    0      0                5   \n",
       "29                95         2021-03-26        0    0      0                0   \n",
       "\n",
       "    ...  Caffe  Difference  Club  Frozen_fruit  Spices  Sauces_and_spreads  \\\n",
       "2   ...      0          17     0             0      68                   0   \n",
       "4   ...      0          51     0             0      84                   0   \n",
       "7   ...      0           0     0             0       0                   0   \n",
       "28  ...      0           0     0             0       0                   0   \n",
       "29  ...      0          71    17             0       0                  32   \n",
       "\n",
       "    Sweets     healthy  not_healthy  basic_products  \n",
       "2       20  252.000000        12.25           18.25  \n",
       "4       70  242.666667        57.75           22.50  \n",
       "7        0    0.000000        10.50            0.00  \n",
       "28      14    0.000000         4.75            0.00  \n",
       "29       0   32.666667         6.00            0.00  \n",
       "\n",
       "[5 rows x 28 columns]"
      ]
     },
     "execution_count": 39,
     "metadata": {},
     "output_type": "execute_result"
    }
   ],
   "source": [
    "gabash = mishkal_df.loc[mishkal_df.City == 'גבעת שמואל']\n",
    "gabash.head()"
   ]
  },
  {
   "cell_type": "markdown",
   "metadata": {},
   "source": [
    "A comparison is made with Givat Shmuel customers between consuming healthy products ,unhealthy products and Vitamins_and_supplements"
   ]
  },
  {
   "cell_type": "code",
   "execution_count": 40,
   "metadata": {},
   "outputs": [
    {
     "data": {
      "text/plain": [
       "not_healthy                 23.753774\n",
       "healthy                     79.293501\n",
       "Vitamins_and_supplements    58.632704\n",
       "dtype: float64"
      ]
     },
     "execution_count": 40,
     "metadata": {},
     "output_type": "execute_result"
    }
   ],
   "source": [
    "gabash_df = gabash[['not_healthy','healthy','Vitamins_and_supplements']]\n",
    "mean_y_n = gabash_df.mean()\n",
    "mean_y_n"
   ]
  },
  {
   "cell_type": "markdown",
   "metadata": {},
   "source": [
    "We can see that the mean of Vitamins_and_supplements in gabash is higher then the mean of unhealthy products, and is high in relative to other departments in the chain store-"
   ]
  },
  {
   "cell_type": "code",
   "execution_count": 41,
   "metadata": {},
   "outputs": [
    {
     "data": {
      "text/plain": [
       "<matplotlib.axes._subplots.AxesSubplot at 0xb2cad60>"
      ]
     },
     "execution_count": 41,
     "metadata": {},
     "output_type": "execute_result"
    },
    {
     "data": {
      "image/png": "[encoded data removed]",
      "text/plain": [
       "<Figure size 432x432 with 1 Axes>"
      ]
     },
     "metadata": {
      "needs_background": "light"
     },
     "output_type": "display_data"
    }
   ],
   "source": [
    "plt.title(\"How healthy are you?\")\n",
    "mean_y_n.plot.bar(fontsize = 12, rot =30, color = ['Green','Orange','Red'], figsize = (6,6))"
   ]
  },
  {
   "cell_type": "code",
   "execution_count": 42,
   "metadata": {},
   "outputs": [
    {
     "data": {
      "text/html": [
       "<div>\n",
       "<style scoped>\n",
       "    .dataframe tbody tr th:only-of-type {\n",
       "        vertical-align: middle;\n",
       "    }\n",
       "\n",
       "    .dataframe tbody tr th {\n",
       "        vertical-align: top;\n",
       "    }\n",
       "\n",
       "    .dataframe thead th {\n",
       "        text-align: right;\n",
       "    }\n",
       "</style>\n",
       "<table border=\"1\" class=\"dataframe\">\n",
       "  <thead>\n",
       "    <tr style=\"text-align: right;\">\n",
       "      <th></th>\n",
       "      <th>not_healthy</th>\n",
       "      <th>healthy</th>\n",
       "      <th>Vitamins_and_supplements</th>\n",
       "    </tr>\n",
       "  </thead>\n",
       "  <tbody>\n",
       "    <tr>\n",
       "      <th>not_healthy</th>\n",
       "      <td>1.00</td>\n",
       "      <td>0.54</td>\n",
       "      <td>0.17</td>\n",
       "    </tr>\n",
       "    <tr>\n",
       "      <th>healthy</th>\n",
       "      <td>0.54</td>\n",
       "      <td>1.00</td>\n",
       "      <td>0.25</td>\n",
       "    </tr>\n",
       "    <tr>\n",
       "      <th>Vitamins_and_supplements</th>\n",
       "      <td>0.17</td>\n",
       "      <td>0.25</td>\n",
       "      <td>1.00</td>\n",
       "    </tr>\n",
       "  </tbody>\n",
       "</table>\n",
       "</div>"
      ],
      "text/plain": [
       "                          not_healthy  healthy  Vitamins_and_supplements\n",
       "not_healthy                      1.00     0.54                      0.17\n",
       "healthy                          0.54     1.00                      0.25\n",
       "Vitamins_and_supplements         0.17     0.25                      1.00"
      ]
     },
     "execution_count": 42,
     "metadata": {},
     "output_type": "execute_result"
    }
   ],
   "source": [
    "corr3 = gabash[['not_healthy','healthy','Vitamins_and_supplements']]\n",
    "corr3.corr().round(2)"
   ]
  },
  {
   "cell_type": "markdown",
   "metadata": {},
   "source": [
    "we can see that there is no connection between healthy or unhealthy products and vitamins and supplements\n"
   ]
  },
  {
   "cell_type": "markdown",
   "metadata": {},
   "source": [
    "## Building a model from Giva'at Shmuel data"
   ]
  },
  {
   "cell_type": "markdown",
   "metadata": {},
   "source": [
    "#### We will try to predict Does a customer from Givat Shmuel buy vitamins and supplements according to certain columns?\n",
    "We cut Givat Shmuel into a new file"
   ]
  },
  {
   "cell_type": "code",
   "execution_count": 43,
   "metadata": {},
   "outputs": [],
   "source": [
    "gabash = mishkal_df.loc[mishkal_df.City == 'גבעת שמואל']"
   ]
  },
  {
   "cell_type": "markdown",
   "metadata": {},
   "source": [
    "Preparing the data for learning"
   ]
  },
  {
   "cell_type": "code",
   "execution_count": 44,
   "metadata": {},
   "outputs": [
    {
     "data": {
      "text/html": [
       "<div>\n",
       "<style scoped>\n",
       "    .dataframe tbody tr th:only-of-type {\n",
       "        vertical-align: middle;\n",
       "    }\n",
       "\n",
       "    .dataframe tbody tr th {\n",
       "        vertical-align: top;\n",
       "    }\n",
       "\n",
       "    .dataframe thead th {\n",
       "        text-align: right;\n",
       "    }\n",
       "</style>\n",
       "<table border=\"1\" class=\"dataframe\">\n",
       "  <thead>\n",
       "    <tr style=\"text-align: right;\">\n",
       "      <th></th>\n",
       "      <th>Num_of_purchases</th>\n",
       "      <th>Num_of_notes</th>\n",
       "      <th>Average_purchase</th>\n",
       "      <th>basic_products</th>\n",
       "    </tr>\n",
       "  </thead>\n",
       "  <tbody>\n",
       "    <tr>\n",
       "      <th>995</th>\n",
       "      <td>305</td>\n",
       "      <td>4</td>\n",
       "      <td>76</td>\n",
       "      <td>9.75</td>\n",
       "    </tr>\n",
       "    <tr>\n",
       "      <th>2307</th>\n",
       "      <td>328</td>\n",
       "      <td>8</td>\n",
       "      <td>41</td>\n",
       "      <td>0.00</td>\n",
       "    </tr>\n",
       "    <tr>\n",
       "      <th>1920</th>\n",
       "      <td>794</td>\n",
       "      <td>6</td>\n",
       "      <td>132</td>\n",
       "      <td>85.50</td>\n",
       "    </tr>\n",
       "    <tr>\n",
       "      <th>617</th>\n",
       "      <td>136</td>\n",
       "      <td>1</td>\n",
       "      <td>136</td>\n",
       "      <td>0.00</td>\n",
       "    </tr>\n",
       "    <tr>\n",
       "      <th>2497</th>\n",
       "      <td>398</td>\n",
       "      <td>6</td>\n",
       "      <td>66</td>\n",
       "      <td>5.75</td>\n",
       "    </tr>\n",
       "  </tbody>\n",
       "</table>\n",
       "</div>"
      ],
      "text/plain": [
       "      Num_of_purchases  Num_of_notes  Average_purchase  basic_products\n",
       "995                305             4                76            9.75\n",
       "2307               328             8                41            0.00\n",
       "1920               794             6               132           85.50\n",
       "617                136             1               136            0.00\n",
       "2497               398             6                66            5.75"
      ]
     },
     "execution_count": 44,
     "metadata": {},
     "output_type": "execute_result"
    }
   ],
   "source": [
    "features = ['Num_of_purchases','Num_of_notes','Average_purchase','basic_products']\n",
    "X = gabash[features]\n",
    "y = gabash[\"Vitamins_and_supplements\"]\n",
    "X_train, X_test, y_train, y_test = train_test_split(X, y, test_size=0.3, random_state=1)\n",
    "X_train.head()"
   ]
  },
  {
   "cell_type": "code",
   "execution_count": 45,
   "metadata": {},
   "outputs": [
    {
     "data": {
      "text/plain": [
       "39      264\n",
       "3026      0\n",
       "1004      0\n",
       "3837      0\n",
       "3126      0\n",
       "Name: Vitamins_and_supplements, dtype: int32"
      ]
     },
     "execution_count": 45,
     "metadata": {},
     "output_type": "execute_result"
    }
   ],
   "source": [
    "y_test.head()"
   ]
  },
  {
   "cell_type": "markdown",
   "metadata": {},
   "source": [
    "Build the model with max depth 5-"
   ]
  },
  {
   "cell_type": "code",
   "execution_count": 46,
   "metadata": {},
   "outputs": [
    {
     "data": {
      "text/plain": [
       "DecisionTreeRegressor(max_depth=5, random_state=22)"
      ]
     },
     "execution_count": 46,
     "metadata": {},
     "output_type": "execute_result"
    }
   ],
   "source": [
    "model = DecisionTreeRegressor(max_depth=5, random_state=22)\n",
    "model.fit(X_train,y_train)"
   ]
  },
  {
   "cell_type": "markdown",
   "metadata": {},
   "source": [
    "Prediction"
   ]
  },
  {
   "cell_type": "code",
   "execution_count": 47,
   "metadata": {},
   "outputs": [
    {
     "data": {
      "text/plain": [
       "122.57504034811599"
      ]
     },
     "execution_count": 47,
     "metadata": {},
     "output_type": "execute_result"
    }
   ],
   "source": [
    "mishkal_df_pred = model.predict(X_test)\n",
    "mse(mishkal_df_pred,y_test,squared=False)"
   ]
  },
  {
   "cell_type": "markdown",
   "metadata": {},
   "source": [
    "We will try to rebuild the model with different depth max to find lower mse-"
   ]
  },
  {
   "cell_type": "code",
   "execution_count": 48,
   "metadata": {},
   "outputs": [
    {
     "data": {
      "text/plain": [
       "DecisionTreeRegressor(max_depth=4, random_state=22)"
      ]
     },
     "execution_count": 48,
     "metadata": {},
     "output_type": "execute_result"
    }
   ],
   "source": [
    "model = DecisionTreeRegressor(max_depth=4, random_state=22)\n",
    "model.fit(X_train,y_train)"
   ]
  },
  {
   "cell_type": "code",
   "execution_count": 49,
   "metadata": {},
   "outputs": [
    {
     "data": {
      "text/plain": [
       "127.80386035989196"
      ]
     },
     "execution_count": 49,
     "metadata": {},
     "output_type": "execute_result"
    }
   ],
   "source": [
    "mishkal_df_pred = model.predict(X_test)\n",
    "mse(mishkal_df_pred,y_test,squared=False)"
   ]
  },
  {
   "cell_type": "markdown",
   "metadata": {},
   "source": [
    "It can be seen that at depth 4 the mse is lower"
   ]
  },
  {
   "cell_type": "markdown",
   "metadata": {},
   "source": [
    "##### Plot the tree\n",
    "Write a function that plots the tree and the tree presentation-"
   ]
  },
  {
   "cell_type": "code",
   "execution_count": 53,
   "metadata": {},
   "outputs": [
    {
     "data": {
      "image/png": "[encoded data removed]",
      "text/plain": [
       "<Figure size 2880x1440 with 1 Axes>"
      ]
     },
     "metadata": {
      "needs_background": "light"
     },
     "output_type": "display_data"
    }
   ],
   "source": [
    "import sklearn.tree as tree\n",
    "def plot_tree(tree_model,feat,size=(15,10)):\n",
    "    fig = plt.figure(figsize=size)\n",
    "    tree.plot_tree(tree_model, \n",
    "                   feature_names = feat, \n",
    "                   class_names = model.classes_,\n",
    "                   filled=True,\n",
    "                  fontsize=15)  \n",
    "    plt.show()\n",
    "plot_tree(model,X_test.columns,size=(40,20))"
   ]
  },
  {
   "cell_type": "code",
   "execution_count": null,
   "metadata": {},
   "outputs": [],
   "source": []
  }
 ],
 "metadata": {
  "kernelspec": {
   "display_name": "Python 3",
   "language": "python",
   "name": "python3"
  },
  "language_info": {
   "codemirror_mode": {
    "name": "ipython",
    "version": 3
   },
   "file_extension": ".py",
   "mimetype": "text/x-python",
   "name": "python",
   "nbconvert_exporter": "python",
   "pygments_lexer": "ipython3",
   "version": "3.8.8"
  }
 },
 "nbformat": 4,
 "nbformat_minor": 4
}
